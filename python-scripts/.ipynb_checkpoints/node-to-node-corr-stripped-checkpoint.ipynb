{
 "metadata": {
  "name": "",
  "signature": "sha256:177473f268cf9cedf5c121ed27051ef023a6ed10d9c576ff4140f505a00ff1ed"
 },
 "nbformat": 3,
 "nbformat_minor": 0,
 "worksheets": [
  {
   "cells": [
    {
     "cell_type": "code",
     "collapsed": false,
     "input": [
      "from neo import io\n",
      "import matplotlib.pyplot as plt\n",
      "from matplotlib.pyplot import show\n",
      "import numpy as np\n",
      "from scipy.stats.stats import pearsonr\n",
      "\n",
      "r = io.BrainVisionIO( filename= 'eeg_suj1_wm2_day1.eeg', filename2='eeg_suj1_wm2_day1.vhdr')\n",
      "seg = r.read_segment(lazy=False, cascade= True, )\n",
      "siglist = seg.analogsignals[0:64]\n",
      "\n",
      "with open('intervals.txt') as file:\n",
      "    lines = file.read().splitlines()\n",
      "    \n",
      "numbers = [int(e.strip()) for e in lines]\n",
      "signal_list = np.asarray(siglist)\n",
      "#total_mean_signal = np.average(signal_list)\n",
      "#print total_mean_signal\n",
      "\n",
      "image_index = 0 # which image are we on\n",
      "i=0 # will iterate 64 times for all data\n",
      "\n",
      "\n",
      "print siglist\n"
     ],
     "language": "python",
     "metadata": {},
     "outputs": [
      {
       "output_type": "stream",
       "stream": "stdout",
       "text": [
        "[<AnalogSignal(array([ 6894.53125   ,  6903.02734375,  6895.65429688, ...,   852.19726562,\n",
        "         852.19726562,   852.19726562], dtype=float32) * uV, [0.0 s, 1883.15 s], sampling rate: 1000.0 Hz)>, <AnalogSignal(array([ 38475.6328125 ,  38478.515625  ,  38466.9921875 , ...,\n",
        "         1559.81445312,   1559.81445312,   1559.81445312], dtype=float32) * uV, [0.0 s, 1883.15 s], sampling rate: 1000.0 Hz)>, <AnalogSignal(array([ 39279.44140625,  39283.7890625 ,  39272.265625  , ...,\n",
        "         1344.48242188,   1344.48242188,   1344.48242188], dtype=float32) * uV, [0.0 s, 1883.15 s], sampling rate: 1000.0 Hz)>, <AnalogSignal(array([ 32066.65039062,  32069.58007812,  32054.34570312, ...,\n",
        "         1727.19726562,   1727.19726562,   1727.19726562], dtype=float32) * uV, [0.0 s, 1883.15 s], sampling rate: 1000.0 Hz)>, <AnalogSignal(array([ 30913.28125   ,  30911.23046875,  30895.1171875 , ...,\n",
        "          136.9140625 ,    136.9140625 ,    136.9140625 ], dtype=float32) * uV, [0.0 s, 1883.15 s], sampling rate: 1000.0 Hz)>, <AnalogSignal(array([ 34051.4140625 ,  34063.9140625 ,  34052.734375  , ...,\n",
        "         1868.89648438,   1868.89648438,   1868.89648438], dtype=float32) * uV, [0.0 s, 1883.15 s], sampling rate: 1000.0 Hz)>, <AnalogSignal(array([ 35239.5       ,  35242.33203125,  35231.98046875, ...,\n",
        "          986.9140625 ,    986.9140625 ,    986.9140625 ], dtype=float32) * uV, [0.0 s, 1883.15 s], sampling rate: 1000.0 Hz)>, <AnalogSignal(array([ 31865.8203125 ,  31873.6328125 ,  31860.64453125, ...,\n",
        "          271.875     ,    271.875     ,    271.875     ], dtype=float32) * uV, [0.0 s, 1883.15 s], sampling rate: 1000.0 Hz)>, <AnalogSignal(array([ 24314.6484375 ,  24302.58789062,  24268.11523438, ...,\n",
        "          -27.63671875,    -27.63671875,    -27.63671875], dtype=float32) * uV, [0.0 s, 1883.15 s], sampling rate: 1000.0 Hz)>, <AnalogSignal(array([ 35387.44921875,  35399.8515625 ,  35386.5703125 , ...,\n",
        "          757.71484375,    757.71484375,    757.71484375], dtype=float32) * uV, [0.0 s, 1883.15 s], sampling rate: 1000.0 Hz)>, <AnalogSignal(array([ 21545.75195312,  21550.48828125,  21537.15820312, ...,\n",
        "         -505.02929688,   -505.02929688,   -505.02929688], dtype=float32) * uV, [0.0 s, 1883.15 s], sampling rate: 1000.0 Hz)>, <AnalogSignal(array([ 32664.84375   ,  32669.62890625,  32656.93359375, ...,\n",
        "          937.79296875,    937.79296875,    937.79296875], dtype=float32) * uV, [0.0 s, 1883.15 s], sampling rate: 1000.0 Hz)>, <AnalogSignal(array([ 39503.66015625,  39505.41796875,  39492.28515625, ...,\n",
        "         1836.47460938,   1836.47460938,   1836.47460938], dtype=float32) * uV, [0.0 s, 1883.15 s], sampling rate: 1000.0 Hz)>, <AnalogSignal(array([ 31561.1328125 ,  31562.15820312,  31541.40625   , ...,\n",
        "         1876.22070312,   1876.22070312,   1876.22070312], dtype=float32) * uV, [0.0 s, 1883.15 s], sampling rate: 1000.0 Hz)>, <AnalogSignal(array([ 38457.46875   ,  38468.5546875 ,  38454.734375  , ...,\n",
        "         -341.45507812,   -341.45507812,   -341.45507812], dtype=float32) * uV, [0.0 s, 1883.15 s], sampling rate: 1000.0 Hz)>, <AnalogSignal(array([ 33255.7109375 ,  33264.109375  ,  33255.125     , ...,\n",
        "          410.30273438,    410.30273438,    410.30273438], dtype=float32) * uV, [0.0 s, 1883.15 s], sampling rate: 1000.0 Hz)>, <AnalogSignal(array([ 28934.52148438,  28939.94140625,  28928.95507812, ...,\n",
        "          639.30664062,    639.30664062,    639.30664062], dtype=float32) * uV, [0.0 s, 1883.15 s], sampling rate: 1000.0 Hz)>, <AnalogSignal(array([ 35714.40234375,  35722.16796875,  35716.89453125, ...,\n",
        "          529.00390625,    529.00390625,    529.00390625], dtype=float32) * uV, [0.0 s, 1883.15 s], sampling rate: 1000.0 Hz)>, <AnalogSignal(array([ 33411.86328125,  33412.64453125,  33400.68359375, ...,\n",
        "         1299.51171875,   1299.51171875,   1299.51171875], dtype=float32) * uV, [0.0 s, 1883.15 s], sampling rate: 1000.0 Hz)>, <AnalogSignal(array([ 35129.19921875,  35130.6640625 ,  35117.33203125, ...,\n",
        "         1575.83007812,   1575.83007812,   1575.83007812], dtype=float32) * uV, [0.0 s, 1883.15 s], sampling rate: 1000.0 Hz)>, <AnalogSignal(array([ 33553.171875  ,  33562.79296875,  33556.73828125, ...,\n",
        "         1244.38476562,   1244.38476562,   1244.38476562], dtype=float32) * uV, [0.0 s, 1883.15 s], sampling rate: 1000.0 Hz)>, <AnalogSignal(array([ 29454.44335938,  29460.83984375,  29452.1484375 , ...,\n",
        "         1145.01953125,   1145.01953125,   1145.01953125], dtype=float32) * uV, [0.0 s, 1883.15 s], sampling rate: 1000.0 Hz)>, <AnalogSignal(array([ 26208.49609375,  26213.96484375,  26205.078125  , ...,\n",
        "           46.19140625,     46.19140625,     46.19140625], dtype=float32) * uV, [0.0 s, 1883.15 s], sampling rate: 1000.0 Hz)>, <AnalogSignal(array([ 30594.28710938,  30600.73242188,  30595.16601562, ...,\n",
        "         -641.94335938,   -641.94335938,   -641.94335938], dtype=float32) * uV, [0.0 s, 1883.15 s], sampling rate: 1000.0 Hz)>, <AnalogSignal(array([ 40482.2265625 ,  40486.5703125 ,  40481.19921875, ...,\n",
        "          482.95898438,    482.95898438,    482.95898438], dtype=float32) * uV, [0.0 s, 1883.15 s], sampling rate: 1000.0 Hz)>, <AnalogSignal(array([ 16578.90625   ,  16580.37109375,  16567.13867188, ...,\n",
        "         1375.9765625 ,   1375.9765625 ,   1375.9765625 ], dtype=float32) * uV, [0.0 s, 1883.15 s], sampling rate: 1000.0 Hz)>, <AnalogSignal(array([ 19690.52734375,  19698.68164062,  19691.35742188, ...,\n",
        "        -1023.68164062,  -1023.68164062,  -1023.68164062], dtype=float32) * uV, [0.0 s, 1883.15 s], sampling rate: 1000.0 Hz)>, <AnalogSignal(array([ 38411.66796875,  38415.37890625,  38407.03125   , ...,\n",
        "         1865.13671875,   1865.13671875,   1865.13671875], dtype=float32) * uV, [0.0 s, 1883.15 s], sampling rate: 1000.0 Hz)>, <AnalogSignal(array([ 34252.9765625 ,  34261.81640625,  34256.0546875 , ...,\n",
        "          846.484375  ,    846.484375  ,    846.484375  ], dtype=float32) * uV, [0.0 s, 1883.15 s], sampling rate: 1000.0 Hz)>, <AnalogSignal(array([ 24799.4140625 ,  24807.03125   ,  24801.953125  , ...,\n",
        "          654.98046875,    654.98046875,    654.98046875], dtype=float32) * uV, [0.0 s, 1883.15 s], sampling rate: 1000.0 Hz)>, <AnalogSignal(array([ 35955.61328125,  35967.1875    ,  35951.85546875, ...,\n",
        "         1054.00390625,   1054.00390625,   1054.00390625], dtype=float32) * uV, [0.0 s, 1883.15 s], sampling rate: 1000.0 Hz)>, <AnalogSignal(array([ 5841.015625  ,  5846.92382812,  5839.50195312, ...,  1179.58984375,\n",
        "        1179.58984375,  1179.58984375], dtype=float32) * uV, [0.0 s, 1883.15 s], sampling rate: 1000.0 Hz)>, <AnalogSignal(array([ 35048.58203125,  35052.87890625,  35042.91796875, ...,\n",
        "         1204.39453125,   1204.39453125,   1204.39453125], dtype=float32) * uV, [0.0 s, 1883.15 s], sampling rate: 1000.0 Hz)>, <AnalogSignal(array([ 40150.48828125,  40154.24609375,  40142.1875    , ...,\n",
        "         2523.38867188,   2523.38867188,   2523.38867188], dtype=float32) * uV, [0.0 s, 1883.15 s], sampling rate: 1000.0 Hz)>, <AnalogSignal(array([ 35788.62109375,  35790.72265625,  35778.85546875, ...,\n",
        "         1015.8203125 ,   1015.8203125 ,   1015.8203125 ], dtype=float32) * uV, [0.0 s, 1883.15 s], sampling rate: 1000.0 Hz)>, <AnalogSignal(array([ 30949.31640625,  30945.94726562,  30919.23828125, ...,\n",
        "          217.72460938,    217.72460938,    217.72460938], dtype=float32) * uV, [0.0 s, 1883.15 s], sampling rate: 1000.0 Hz)>, <AnalogSignal(array([ 33458.3984375 ,  33466.6484375 ,  33460.59375   , ...,\n",
        "          528.46679688,    528.46679688,    528.46679688], dtype=float32) * uV, [0.0 s, 1883.15 s], sampling rate: 1000.0 Hz)>, <AnalogSignal(array([ 32031.54296875,  32039.20898438,  32030.6640625 , ...,\n",
        "          614.11132812,    614.11132812,    614.11132812], dtype=float32) * uV, [0.0 s, 1883.15 s], sampling rate: 1000.0 Hz)>, <AnalogSignal(array([ 37107.76171875,  37112.98828125,  37102.5859375 , ...,\n",
        "         1890.08789062,   1890.08789062,   1890.08789062], dtype=float32) * uV, [0.0 s, 1883.15 s], sampling rate: 1000.0 Hz)>, <AnalogSignal(array([ 28943.50585938,  28949.95117188,  28939.79492188, ...,\n",
        "         2153.125     ,   2153.125     ,   2153.125     ], dtype=float32) * uV, [0.0 s, 1883.15 s], sampling rate: 1000.0 Hz)>, <AnalogSignal(array([ 22366.11328125,  22377.09960938,  22360.30273438, ...,\n",
        "         1491.65039062,   1491.65039062,   1491.65039062], dtype=float32) * uV, [0.0 s, 1883.15 s], sampling rate: 1000.0 Hz)>, <AnalogSignal(array([ 14036.23046875,  14039.01367188,  14028.36914062, ...,\n",
        "        -1093.89648438,  -1093.89648438,  -1093.89648438], dtype=float32) * uV, [0.0 s, 1883.15 s], sampling rate: 1000.0 Hz)>, <AnalogSignal(array([ 47758.7890625 ,  47766.40625   ,  47753.85546875, ...,\n",
        "          336.42578125,    336.42578125,    336.42578125], dtype=float32) * uV, [0.0 s, 1883.15 s], sampling rate: 1000.0 Hz)>, <AnalogSignal(array([ 54900.92578125,  54904.98046875,  54893.9921875 , ...,\n",
        "          -86.86523438,    -86.86523438,    -86.86523438], dtype=float32) * uV, [0.0 s, 1883.15 s], sampling rate: 1000.0 Hz)>, <AnalogSignal(array([ 42842.0390625 ,  42841.0625    ,  42814.35546875, ...,\n",
        "         2045.75195312,   2045.75195312,   2045.75195312], dtype=float32) * uV, [0.0 s, 1883.15 s], sampling rate: 1000.0 Hz)>, <AnalogSignal(array([ 19324.4140625 ,  19336.328125  ,  19329.83398438, ...,\n",
        "         2196.38671875,   2196.38671875,   2196.38671875], dtype=float32) * uV, [0.0 s, 1883.15 s], sampling rate: 1000.0 Hz)>, <AnalogSignal(array([ 48265.57421875,  48275.1953125 ,  48260.3984375 , ...,\n",
        "         2215.13671875,   2215.13671875,   2215.13671875], dtype=float32) * uV, [0.0 s, 1883.15 s], sampling rate: 1000.0 Hz)>, <AnalogSignal(array([ 33978.66015625,  33986.81640625,  33974.8515625 , ...,\n",
        "          803.17382812,    803.17382812,    803.17382812], dtype=float32) * uV, [0.0 s, 1883.15 s], sampling rate: 1000.0 Hz)>, <AnalogSignal(array([ 35708.49609375,  35711.86328125,  35703.07421875, ...,\n",
        "          475.78125   ,    475.78125   ,    475.78125   ], dtype=float32) * uV, [0.0 s, 1883.15 s], sampling rate: 1000.0 Hz)>, <AnalogSignal(array([ 24068.60351562,  24067.08984375,  24054.58984375, ...,\n",
        "         1448.53515625,   1448.53515625,   1448.53515625], dtype=float32) * uV, [0.0 s, 1883.15 s], sampling rate: 1000.0 Hz)>, <AnalogSignal(array([ 36871.23828125,  36881.34765625,  36879.19921875, ...,\n",
        "         1229.83398438,   1229.83398438,   1229.83398438], dtype=float32) * uV, [0.0 s, 1883.15 s], sampling rate: 1000.0 Hz)>, <AnalogSignal(array([ 35608.984375  ,  35615.37890625,  35606.640625  , ...,\n",
        "         1035.79101562,   1035.79101562,   1035.79101562], dtype=float32) * uV, [0.0 s, 1883.15 s], sampling rate: 1000.0 Hz)>, <AnalogSignal(array([ 34152.48828125,  34157.71484375,  34149.21875   , ...,\n",
        "          -75.04882812,    -75.04882812,    -75.04882812], dtype=float32) * uV, [0.0 s, 1883.15 s], sampling rate: 1000.0 Hz)>, <AnalogSignal(array([ 22736.08398438,  22744.140625  ,  22736.27929688, ...,\n",
        "         2410.83984375,   2410.83984375,   2410.83984375], dtype=float32) * uV, [0.0 s, 1883.15 s], sampling rate: 1000.0 Hz)>, <AnalogSignal(array([ 37947.99609375,  37950.5859375 ,  37938.76953125, ...,\n",
        "         2223.92578125,   2223.92578125,   2223.92578125], dtype=float32) * uV, [0.0 s, 1883.15 s], sampling rate: 1000.0 Hz)>, <AnalogSignal(array([ 22205.56640625,  22217.13867188,  22215.91796875, ...,\n",
        "          273.33984375,    273.33984375,    273.33984375], dtype=float32) * uV, [0.0 s, 1883.15 s], sampling rate: 1000.0 Hz)>, <AnalogSignal(array([ 36732.6640625 ,  36737.5       ,  36728.66015625, ...,\n",
        "         2222.80273438,   2222.80273438,   2222.80273438], dtype=float32) * uV, [0.0 s, 1883.15 s], sampling rate: 1000.0 Hz)>, <AnalogSignal(array([ 34383.3984375 ,  34389.890625  ,  34381.0546875 , ...,\n",
        "         1899.70703125,   1899.70703125,   1899.70703125], dtype=float32) * uV, [0.0 s, 1883.15 s], sampling rate: 1000.0 Hz)>, <AnalogSignal(array([ 12166.25976562,  12180.22460938,  12173.58398438, ...,\n",
        "         1577.39257812,   1577.39257812,   1577.39257812], dtype=float32) * uV, [0.0 s, 1883.15 s], sampling rate: 1000.0 Hz)>, <AnalogSignal(array([ 60882.76171875,  60902.05078125,  60904.78515625, ...,\n",
        "         1969.58007812,   1969.58007812,   1969.58007812], dtype=float32) * uV, [0.0 s, 1883.15 s], sampling rate: 1000.0 Hz)>, <AnalogSignal(array([ 42898.33984375,  42902.5390625 ,  42892.7734375 , ...,\n",
        "         1874.8046875 ,   1874.8046875 ,   1874.8046875 ], dtype=float32) * uV, [0.0 s, 1883.15 s], sampling rate: 1000.0 Hz)>, <AnalogSignal(array([ 21540.47851562,  21560.20507812,  21557.51953125, ...,\n",
        "         -779.54101562,   -779.54101562,   -779.54101562], dtype=float32) * uV, [0.0 s, 1883.15 s], sampling rate: 1000.0 Hz)>, <AnalogSignal(array([  26288.13476562,   26274.21875   ,   26257.86132812, ...,\n",
        "       -815732.875     , -815733.125     , -815733.0625    ], dtype=float32) * uV, [0.0 s, 1883.15 s], sampling rate: 1000.0 Hz)>, <AnalogSignal(array([ 423994.1875    ,  423790.8125    ,  423612.34375   , ...,\n",
        "          1658.93554688,    1658.93554688,    1658.93554688], dtype=float32) * uV, [0.0 s, 1883.15 s], sampling rate: 1000.0 Hz)>]\n"
       ]
      }
     ],
     "prompt_number": 1
    },
    {
     "cell_type": "code",
     "collapsed": false,
     "input": [
      "mean_node_signals = np.zeros([64], dtype=np.float32)\n",
      "\n",
      "while i < len(signal_list): # iterate over nodes\n",
      "    avg_val = np.average(signal_list[i][415730:1246423])\n",
      "    mean_node_signals[i] = avg_val\n",
      "    i += 1\n",
      "    \n",
      "print mean_node_signals"
     ],
     "language": "python",
     "metadata": {},
     "outputs": [
      {
       "output_type": "stream",
       "stream": "stdout",
       "text": [
        "[   8368.29882812   38317.68359375   39045.640625     31100.03125\n",
        "   29571.27929688   33298.71484375   34616.01171875   30219.46875\n",
        "   23531.96289062   35531.18359375   23025.89453125   31716.69140625\n",
        "   42478.01171875   30417.93359375   40161.8125       31367.33007812\n",
        "   26964.02734375   34665.87109375   32858.25         38155.79296875\n",
        "   32460.39648438   28046.53320312   24423.72460938   29571.72070312\n",
        "   43106.796875     19203.4765625    18963.2734375    37807.33203125\n",
        "   32618.91992188   23927.52734375   35538.13671875    8142.40283203\n",
        "   34479.55859375   39499.296875     35102.15234375   34750.5625\n",
        "   32367.8984375    30585.05664062   36056.43359375   26082.40429688\n",
        "   22158.31835938   15185.22460938   48809.80078125   56143.97265625\n",
        "   42889.07421875   18025.8203125    52116.97265625   32664.50390625\n",
        "   34494.734375     24517.60742188   35993.796875     34436.17578125\n",
        "   33126.83203125   21079.24609375   37389.921875     20773.30664062\n",
        "   37134.984375     33192.66796875   13133.51269531   64381.2890625\n",
        "   44140.62890625   21469.29882812   27159.9140625   422566.78125   ]\n"
       ]
      }
     ],
     "prompt_number": 2
    },
    {
     "cell_type": "code",
     "collapsed": false,
     "input": [
      "subtracted_signals = np.zeros((64, 830693), dtype=np.float32)\n",
      "i = 0\n",
      "j=0 # for each i (node), j will iterate 1.8 million times which is half an hour of data (1.8 million ms)\n",
      "k =0\n",
      "while i < len(signal_list):\n",
      "    j=0\n",
      "    k=0\n",
      "    while j < len(signal_list[i]):\n",
      "        if((j >= 415730) & (j <= 1246422)):\n",
      "            subtracted_signals[i][k] = (signal_list[i][j] - mean_node_signals[i])\n",
      "            k += 1\n",
      "        j += 1\n",
      "    i += 1\n",
      "\n",
      "print subtracted_signals"
     ],
     "language": "python",
     "metadata": {},
     "outputs": [
      {
       "output_type": "stream",
       "stream": "stdout",
       "text": [
        "[[ -480.89648438  -487.34179688  -497.20507812 ...,   451.91601562\n",
        "    442.15039062   422.66796875]\n",
        " [  859.31640625   851.69921875   839.296875   ..., -1051.03515625\n",
        "  -1049.8125     -1057.0390625 ]\n",
        " [  644.4453125    640.44140625   630.04296875 ...,  -660.97265625\n",
        "   -665.26953125  -673.9140625 ]\n",
        " ..., \n",
        " [  206.58007812   205.89648438   199.5        ...,  -125.25585938\n",
        "   -120.91015625  -131.21289062]\n",
        " [  130.22265625   131.34570312   114.59765625 ...,  -165.43164062\n",
        "   -162.0625      -172.16992188]\n",
        " [  432.625       -392.4375     -1314.21875    ...,  1768.90625     1444.96875\n",
        "    503.8125    ]]\n"
       ]
      }
     ],
     "prompt_number": 25
    },
    {
     "cell_type": "code",
     "collapsed": false,
     "input": [
      "print subtracted_signals[63][744422:1246422]"
     ],
     "language": "python",
     "metadata": {},
     "outputs": [
      {
       "output_type": "stream",
       "stream": "stdout",
       "text": [
        "[ -643.40625 -1387.9375  -2399.15625 ...,     0.          0.          0.     ]\n"
       ]
      }
     ],
     "prompt_number": 20
    },
    {
     "cell_type": "code",
     "collapsed": false,
     "input": [
      "print signal_list[63].size"
     ],
     "language": "python",
     "metadata": {},
     "outputs": [
      {
       "output_type": "stream",
       "stream": "stdout",
       "text": [
        "1883150\n"
       ]
      }
     ],
     "prompt_number": 23
    },
    {
     "cell_type": "code",
     "collapsed": false,
     "input": [
      "final_correlation = np.zeros((64,64), dtype=np.float32)\n",
      "\n",
      "i=0\n",
      "j=0\n",
      "\n",
      "while i < len(subtracted_signals):\n",
      "    j=0\n",
      "    while j < len(subtracted_signals):\n",
      "        curr_corr = pearsonr(subtracted_signals[i], subtracted_signals[j])\n",
      "        final_correlation[i][j] = curr_corr[0]\n",
      "        j += 1\n",
      "    i += 1\n",
      "    \n",
      "print final_correlation"
     ],
     "language": "python",
     "metadata": {},
     "outputs": [
      {
       "output_type": "stream",
       "stream": "stdout",
       "text": [
        "[[ 1.         -0.9060213  -0.89264315 ..., -0.73025721 -0.66228002\n",
        "  -0.17901637]\n",
        " [-0.9060213   1.          0.99480796 ...,  0.80637324  0.732306\n",
        "   0.26296312]\n",
        " [-0.89264315  0.99480796  1.         ...,  0.81818885  0.74147296\n",
        "   0.26800239]\n",
        " ..., \n",
        " [-0.73025721  0.80637324  0.81818885 ...,  1.          0.92196411\n",
        "   0.20332725]\n",
        " [-0.66228002  0.732306    0.74147296 ...,  0.92196411  1.          0.1809999 ]\n",
        " [-0.17901637  0.26296312  0.26800239 ...,  0.20332725  0.1809999   1.        ]]\n"
       ]
      }
     ],
     "prompt_number": 27
    },
    {
     "cell_type": "code",
     "collapsed": false,
     "input": [
      "np.savetxt(\"node-node-corr.csv\", final_correlation, delimiter=\",\")"
     ],
     "language": "python",
     "metadata": {},
     "outputs": [],
     "prompt_number": 28
    },
    {
     "cell_type": "code",
     "collapsed": false,
     "input": [],
     "language": "python",
     "metadata": {},
     "outputs": []
    }
   ],
   "metadata": {}
  }
 ]
}