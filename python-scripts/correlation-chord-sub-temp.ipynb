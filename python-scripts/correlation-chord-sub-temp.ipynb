{
 "metadata": {
  "name": "",
  "signature": "sha256:d0aba16e13fe67d8aa5575d6875d7bb3acc5b5866876d17c81c41dec53aef839"
 },
 "nbformat": 3,
 "nbformat_minor": 0,
 "worksheets": [
  {
   "cells": [
    {
     "cell_type": "code",
     "collapsed": false,
     "input": [
      "from neo import io\n",
      "import matplotlib.pyplot as plt\n",
      "from matplotlib.pyplot import show\n",
      "import numpy as np\n",
      "from scipy.stats.stats import pearsonr"
     ],
     "language": "python",
     "metadata": {},
     "outputs": [],
     "prompt_number": 2
    },
    {
     "cell_type": "code",
     "collapsed": false,
     "input": [
      "r = io.BrainVisionIO( filename= 'eeg_suj1_wm2_day1.eeg', filename2='eeg_suj1_wm2_day1.vhdr')\n",
      "seg = r.read_segment(lazy=False, cascade= True, )\n",
      "siglist = seg.analogsignals[0:64]"
     ],
     "language": "python",
     "metadata": {},
     "outputs": [],
     "prompt_number": 3
    },
    {
     "cell_type": "code",
     "collapsed": false,
     "input": [
      "with open('intervals.txt') as file:\n",
      "    lines = file.read().splitlines()"
     ],
     "language": "python",
     "metadata": {},
     "outputs": [],
     "prompt_number": 4
    },
    {
     "cell_type": "code",
     "collapsed": false,
     "input": [
      "numbers = [int(e.strip()) for e in lines]\n",
      "signal_list = np.asarray(siglist)\n",
      "#total_mean_signal = np.average(signal_list)\n",
      "#print total_mean_signal"
     ],
     "language": "python",
     "metadata": {},
     "outputs": [],
     "prompt_number": 5
    },
    {
     "cell_type": "code",
     "collapsed": false,
     "input": [
      "image_index = 0 # which image are we on\n",
      "i=0 # will iterate 64 times for all data\n",
      "j=0 # for each i (node), j will iterate 1.8 million times which is half an hour of data (1.8 million ms)\n",
      "\n",
      "# While we are in the inner for loop, compute the mean signal for two nodes at a time within a timeframe each image was shown\n",
      "# and store in a 2D array.\n",
      "# e.g. curr_image = numbers[i], next_image = numbers[i+1], np.average(signal_list[curr_image:next_image])\n",
      "# store each mean signal you get in a multidimensional array that is 140 X 64. \n",
      "# Then run pearson correlation on array like this:\n",
      "# e.g. pearson_cor(mean_signals[0],mean_signals[1]), pearson_cor(mean_signals[0],mean_signals[2])...etc\n",
      "# final array should 140 X 140\n",
      "\n",
      "mean_signals = np.zeros((140,64), dtype=np.float32) # This will store the final correlational data for each \n",
      "final_correlation = np.zeros((140,140), dtype=np.float32)\n",
      "\n",
      "while i < len(signal_list): #iterate over nodes\n",
      "    j = 0\n",
      "    image_index = 0\n",
      "    while j < len(signal_list[i]): # iterate over time in ms\n",
      "        if((j>= 415730) & (j<=1244423)):\n",
      "            if j == numbers[image_index]:\n",
      "                if numbers[image_index] == 1244423: # if last image\n",
      "                    curr_image = numbers[image_index]\n",
      "                    next_image = curr_image + 2000\n",
      "                else:\n",
      "                    curr_image = numbers[image_index]\n",
      "                    next_image = numbers[image_index + 1]\n",
      "                average_val = np.average(signal_list[i][curr_image:next_image])\n",
      "                mean_signals[image_index][i] = average_val # assign an average signal to the current image\n",
      "                if j < 1244423: # if last image\n",
      "                    image_index += 1\n",
      "        j += 1\n",
      "    i += 1\n",
      "    \n",
      "print mean_signals\n",
      "# Here I subtract the mean signal of the nodes at each timeframe\n",
      "\n",
      "c=0\n",
      "d=0\n",
      "e=0\n",
      "average_signal_for_current_image = 0.0\n",
      "subtracted_mean_signals = np.zeros((140,64), dtype=np.float32)\n",
      "\n",
      "while c < len(mean_signals): # iterate over images\n",
      "    d=0\n",
      "    e=0\n",
      "    average_signal_for_current_image = 0\n",
      "    while d < len(mean_signals[c]): # iterate over nodes\n",
      "        average_signal_for_current_image += mean_signals[c][d]\n",
      "        d += 1\n",
      "    while e < len(mean_signals[c]):\n",
      "        subtracted_mean_signals[c][e] = mean_signals[c][e] -  average_signal_for_current_image/64.0\n",
      "        e += 1\n",
      "    c += 1\n",
      "    \n",
      "print subtracted_mean_signals\n",
      "\n",
      "# Now run pearson corr bw every image\n",
      "a = 0\n",
      "b = 0\n",
      "node = 0\n",
      "while a < len(subtracted_mean_signals): # iterate images\n",
      "    b = 0\n",
      "    while b < len(subtracted_mean_signals): # iterate second image\n",
      "        curr_corr = spearmanr(subtracted_mean_signals[a], subtracted_mean_signals[b])\n",
      "        final_correlation[a][b] = curr_corr[0]\n",
      "        node += 1\n",
      "        b += 1\n",
      "    a += 1\n",
      "    \n",
      "print final_correlation\n",
      "print final_correlation.size\n"
     ],
     "language": "python",
     "metadata": {},
     "outputs": [
      {
       "ename": "KeyboardInterrupt",
       "evalue": "",
       "output_type": "pyerr",
       "traceback": [
        "\u001b[1;31m---------------------------------------------------------------------------\u001b[0m\n\u001b[1;31mKeyboardInterrupt\u001b[0m                         Traceback (most recent call last)",
        "\u001b[1;32m<ipython-input-9-e69f60b400a8>\u001b[0m in \u001b[0;36m<module>\u001b[1;34m()\u001b[0m\n\u001b[0;32m     18\u001b[0m     \u001b[0mimage_index\u001b[0m \u001b[1;33m=\u001b[0m \u001b[1;36m0\u001b[0m\u001b[1;33m\u001b[0m\u001b[0m\n\u001b[0;32m     19\u001b[0m     \u001b[1;32mwhile\u001b[0m \u001b[0mj\u001b[0m \u001b[1;33m<\u001b[0m \u001b[0mlen\u001b[0m\u001b[1;33m(\u001b[0m\u001b[0msignal_list\u001b[0m\u001b[1;33m[\u001b[0m\u001b[0mi\u001b[0m\u001b[1;33m]\u001b[0m\u001b[1;33m)\u001b[0m\u001b[1;33m:\u001b[0m \u001b[1;31m# iterate over time in ms\u001b[0m\u001b[1;33m\u001b[0m\u001b[0m\n\u001b[1;32m---> 20\u001b[1;33m         \u001b[1;32mif\u001b[0m\u001b[1;33m(\u001b[0m\u001b[1;33m(\u001b[0m\u001b[0mj\u001b[0m\u001b[1;33m>=\u001b[0m \u001b[1;36m415730\u001b[0m\u001b[1;33m)\u001b[0m \u001b[1;33m&\u001b[0m \u001b[1;33m(\u001b[0m\u001b[0mj\u001b[0m\u001b[1;33m<=\u001b[0m\u001b[1;36m1244423\u001b[0m\u001b[1;33m)\u001b[0m\u001b[1;33m)\u001b[0m\u001b[1;33m:\u001b[0m\u001b[1;33m\u001b[0m\u001b[0m\n\u001b[0m\u001b[0;32m     21\u001b[0m             \u001b[1;32mif\u001b[0m \u001b[0mj\u001b[0m \u001b[1;33m==\u001b[0m \u001b[0mnumbers\u001b[0m\u001b[1;33m[\u001b[0m\u001b[0mimage_index\u001b[0m\u001b[1;33m]\u001b[0m\u001b[1;33m:\u001b[0m\u001b[1;33m\u001b[0m\u001b[0m\n\u001b[0;32m     22\u001b[0m                 \u001b[1;32mif\u001b[0m \u001b[0mnumbers\u001b[0m\u001b[1;33m[\u001b[0m\u001b[0mimage_index\u001b[0m\u001b[1;33m]\u001b[0m \u001b[1;33m==\u001b[0m \u001b[1;36m1244423\u001b[0m\u001b[1;33m:\u001b[0m \u001b[1;31m# if last image\u001b[0m\u001b[1;33m\u001b[0m\u001b[0m\n",
        "\u001b[1;31mKeyboardInterrupt\u001b[0m: "
       ]
      }
     ],
     "prompt_number": 9
    },
    {
     "cell_type": "code",
     "collapsed": false,
     "input": [
      "print subtracted_mean_signals[0][2]"
     ],
     "language": "python",
     "metadata": {},
     "outputs": [
      {
       "output_type": "stream",
       "stream": "stdout",
       "text": [
        "1062.34\n"
       ]
      }
     ],
     "prompt_number": 55
    },
    {
     "cell_type": "code",
     "collapsed": false,
     "input": [
      "from scipy.stats.stats import spearmanr\n",
      "# Now run pearson corr bw every image\n",
      "a = 0\n",
      "b = 0\n",
      "node = 0\n",
      "while a < len(subtracted_mean_signals): # iterate images\n",
      "    b = 0\n",
      "    while b < len(subtracted_mean_signals): # iterate second image\n",
      "        curr_corr = spearmanr(subtracted_mean_signals[a], subtracted_mean_signals[b])\n",
      "        final_correlation[a][b] = curr_corr[0]\n",
      "        node += 1\n",
      "        b += 1\n",
      "    a += 1\n",
      "    \n",
      "print final_correlation\n",
      "print final_correlation.size"
     ],
     "language": "python",
     "metadata": {},
     "outputs": [
      {
       "output_type": "stream",
       "stream": "stdout",
       "text": [
        "[[ 1.          0.99990845  0.99995422 ...,  0.9960165   0.9960165\n",
        "   0.9960165 ]\n",
        " [ 0.99990845  1.          0.99995422 ...,  0.99592489  0.99592489\n",
        "   0.99592489]\n",
        " [ 0.99995422  0.99995422  1.         ...,  0.99597067  0.99597067\n",
        "   0.99597067]\n",
        " ..., \n",
        " [ 0.9960165   0.99592489  0.99597067 ...,  1.          1.          1.        ]\n",
        " [ 0.9960165   0.99592489  0.99597067 ...,  1.          1.          1.        ]\n",
        " [ 0.9960165   0.99592489  0.99597067 ...,  1.          1.          1.        ]]\n",
        "19600\n"
       ]
      }
     ],
     "prompt_number": 51
    },
    {
     "cell_type": "code",
     "collapsed": false,
     "input": [
      "from scipy.spatial.distance import pdist, squareform\n",
      "from scipy.cluster.hierarchy import linkage, dendrogram\n",
      "\n",
      "\n",
      "new_corr = final_correlation.astype(np.float16)\n",
      "\n",
      "data_dist = pdist(final_correlation, 'correlation') # computing the distance\n",
      "print data_dist\n",
      "data_link = linkage(final_correlation, method='ward') # computing the linkage\n",
      "\n",
      "\n",
      "# Compute and plot first dendrogram.\n",
      "fig = plt.figure(figsize=(8,8))\n",
      "# x ywidth height\n",
      "ax1 = fig.add_axes([0.05,0.1,0.2,0.6])\n",
      "Y = linkage(data_dist, 'average')\n",
      "print Y[0][2]\n",
      "Z1 = dendrogram(Y, orientation='right') # adding/removing the axes\n",
      "ax1.set_xticks([])\n",
      "\n",
      "# Compute and plot second dendrogram.\n",
      "ax2 = fig.add_axes([0.3,0.71,0.6,0.2])\n",
      "Z2 = dendrogram(Y)\n",
      "ax2.set_xticks([])\n",
      "ax2.set_yticks([])\n",
      "\n",
      "#Compute and plot the heatmap\n",
      "axmatrix = fig.add_axes([0.3,0.1,0.6,0.6])\n",
      "idx1 = Z1['leaves']\n",
      "idx2 = Z2['leaves']\n",
      "D = squareform(data_dist)\n",
      "D = D[idx1,:]\n",
      "D = D[:,idx2]\n",
      "im = axmatrix.matshow(D, aspect='auto', origin='lower', cmap=plt.cm.RdBu)\n",
      "axmatrix.set_xticks([])\n",
      "axmatrix.set_yticks([])\n",
      "\n",
      "# Plot colorbar.\n",
      "axcolor = fig.add_axes([0.91,0.1,0.02,0.6])\n",
      "plt.colorbar(im, cax=axcolor)\n"
     ],
     "language": "python",
     "metadata": {},
     "outputs": [
      {
       "output_type": "stream",
       "stream": "stdout",
       "text": [
        "[ 0.59725566  0.72314648  1.06893859 ...,  0.48108052  1.36073285\n",
        "  0.41913753]\n",
        "1.77283743241e-10"
       ]
      },
      {
       "output_type": "stream",
       "stream": "stdout",
       "text": [
        "\n"
       ]
      },
      {
       "metadata": {},
       "output_type": "pyout",
       "prompt_number": 30,
       "text": [
        "<matplotlib.colorbar.Colorbar instance at 0x478ddf38>"
       ]
      }
     ],
     "prompt_number": 30
    },
    {
     "cell_type": "code",
     "collapsed": false,
     "input": [
      "np.savetxt(\"pre-corr-data.csv\", subtracted_mean_signals, delimiter=\",\")"
     ],
     "language": "python",
     "metadata": {},
     "outputs": [],
     "prompt_number": 7
    },
    {
     "cell_type": "code",
     "collapsed": false,
     "input": [
      "import csv\n",
      "from itertools import izip\n",
      "a = izip(*csv.reader(open(\"pre-corr-data.csv\", \"rb\")))\n",
      "csv.writer(open(\"pre-corr-data-transposed.csv\", \"wb\")).writerows(a)"
     ],
     "language": "python",
     "metadata": {},
     "outputs": [],
     "prompt_number": 1
    },
    {
     "cell_type": "code",
     "collapsed": false,
     "input": [
      "import pandas\n",
      "import scipy.cluster.hierarchy as hc\n",
      "\n",
      "d = pandas.read_clipboard(sep=\",\", index_col=0)\n",
      "\n",
      "link = hc.linkage(d.values, method='average')\n",
      "o1 = hc.leaves_list(link)\n",
      "\n",
      "mat = d.values[o1,:]\n",
      "mat = mat[:, o1[::-1]]\n",
      "print mat\n",
      "plt.imshow(mat)"
     ],
     "language": "python",
     "metadata": {},
     "outputs": [
      {
       "output_type": "stream",
       "stream": "stdout",
       "text": [
        "[[-0.96938699 -0.97624838 -0.97000015 ...,  0.98027378  0.95909691  1.        ]\n",
        " [-0.94582814 -0.9422732  -0.96047664 ...,  0.97781831  1.          0.95909691]\n",
        " [-0.95127064 -0.96634573 -0.95935792 ...,  1.          0.97781831\n",
        "   0.98027378]\n",
        " ..., \n",
        " [ 0.99231207  0.98067212  1.         ..., -0.95935792 -0.96047664\n",
        "  -0.97000015]\n",
        " [ 0.98536187  1.          0.98067212 ..., -0.96634573 -0.9422732\n",
        "  -0.97624838]\n",
        " [ 1.          0.98536187  0.99231207 ..., -0.95127064 -0.94582814\n",
        "  -0.96938699]]\n"
       ]
      },
      {
       "metadata": {},
       "output_type": "pyout",
       "prompt_number": 31,
       "text": [
        "<matplotlib.image.AxesImage at 0x46970150>"
       ]
      }
     ],
     "prompt_number": 31
    },
    {
     "cell_type": "code",
     "collapsed": false,
     "input": [
      "a = np.random.rand(3,2)"
     ],
     "language": "python",
     "metadata": {},
     "outputs": []
    },
    {
     "cell_type": "code",
     "collapsed": false,
     "input": [
      "json_corr = final_correlation.tolist()\n",
      "# with open('data.json','w') as outfile:\n",
      "#     json.dump(json_corr, outfile)\n",
      "\n",
      "# np.savetxt(\"correlation-chord-subtracted-dec-3rd.csv\", final_correlation, delimiter=\",\")"
     ],
     "language": "python",
     "metadata": {},
     "outputs": [],
     "prompt_number": 27
    },
    {
     "cell_type": "code",
     "collapsed": false,
     "input": [
      "import seaborn as sns\n",
      "from pandas import *\n",
      "sns.set(context=\"paper\", font=\"monospace\")\n",
      "df = DataFrame(data=final_correlation)\n",
      "\n",
      "f, ax = plt.subplots(figsize=(12, 9))\n",
      "sns.heatmap(df, vmax=.8, linewidths=0, square=True)\n",
      "f.tight_layout()\n"
     ],
     "language": "python",
     "metadata": {},
     "outputs": [],
     "prompt_number": 29
    },
    {
     "cell_type": "code",
     "collapsed": false,
     "input": [
      "subtracted_mean_signals_pre = np.zeros((64,140), np.float32)\n",
      "c=0\n",
      "e=0\n",
      "d=0\n",
      "while c < len(mean_signals): # iterate over images\n",
      "    d=0\n",
      "    e=0\n",
      "    average_signal_for_current_image = 0\n",
      "    while d < len(mean_signals[c]): # iterate over nodes\n",
      "        average_signal_for_current_image += mean_signals[c][d]\n",
      "        d += 1\n",
      "    while e < len(mean_signals[c]):\n",
      "        subtracted_mean_signals_pre[e][c] = mean_signals[c][e] -  average_signal_for_current_image/64.0\n",
      "        e += 1\n",
      "    c += 1\n",
      "    \n",
      "print subtracted_mean_signals_pre\n",
      "\n"
     ],
     "language": "python",
     "metadata": {},
     "outputs": [
      {
       "output_type": "stream",
       "stream": "stdout",
       "text": [
        "[[ -3.07366270e+04  -3.06929570e+04  -3.06553320e+04 ...,  -2.84278477e+04\n",
        "   -2.84019355e+04  -2.83781719e+04]\n",
        " [  5.50833130e+02   5.56399719e+02   5.47764709e+02 ...,   7.39667206e+01\n",
        "    6.17346039e+01   6.60675201e+01]\n",
        " [  1.06233704e+03   1.06330591e+03   1.05862402e+03 ...,   1.17100183e+03\n",
        "    1.16982056e+03   1.17695032e+03]\n",
        " ..., \n",
        " [ -1.69697441e+04  -1.69789043e+04  -1.69541504e+04 ...,  -1.59668398e+04\n",
        "   -1.59423027e+04  -1.59255049e+04]\n",
        " [ -1.13649893e+04  -1.13867959e+04  -1.13526260e+04 ...,  -1.02233535e+04\n",
        "   -1.01917500e+04  -1.02154287e+04]\n",
        " [  3.84550844e+05   3.84567094e+05   3.84560750e+05 ...,   3.84873156e+05\n",
        "    3.84844594e+05   3.84883656e+05]]\n"
       ]
      }
     ],
     "prompt_number": 48
    },
    {
     "cell_type": "code",
     "collapsed": false,
     "input": [
      "np.savetxt(\"pre-correlation-shaped\", subtracted_mean_signals_pre, delimiter=\",\")"
     ],
     "language": "python",
     "metadata": {},
     "outputs": []
    },
    {
     "cell_type": "code",
     "collapsed": false,
     "input": [
      "image_index = 0 # which image are we on\n",
      "i=0 # will iterate 64 times for all data\n",
      "j=0 # for each i (node), j will iterate 1.8 million times which is half an hour of data (1.8 million ms)\n",
      "\n",
      "mean_signals = np.zeros((140,64), dtype=np.float32) # This will store the final correlational data for each \n",
      "final_correlation = np.zeros((140,140), dtype=np.float32)\n",
      "\n",
      "while i < len(signal_list): #iterate over nodes\n",
      "    j = 0\n",
      "    image_index = 0\n",
      "    while j < len(signal_list[i]): # iterate over time in ms\n",
      "        if((j>= 415730) & (j<=1244423)):\n",
      "            if j == numbers[image_index]:\n",
      "                if numbers[image_index] == 1244423: # if last image\n",
      "                    curr_image = numbers[image_index]\n",
      "                    next_image = curr_image + 2000\n",
      "                else:\n",
      "                    curr_image = numbers[image_index]\n",
      "                    next_image = numbers[image_index + 1]\n",
      "                average_val = np.average(signal_list[i][curr_image:next_image])\n",
      "                mean_signals[image_index][i] = average_val # assign an average signal to the current image\n",
      "                if j < 1244423: # if last image\n",
      "                    image_index += 1\n",
      "        j += 1\n",
      "    i += 1\n",
      "    \n",
      "print mean_signals"
     ],
     "language": "python",
     "metadata": {},
     "outputs": [
      {
       "output_type": "stream",
       "stream": "stdout",
       "text": [
        "[[   7881.18847656   39168.6484375    39680.15234375 ...,   21648.0703125\n",
        "    27252.82617188  423168.65625   ]\n",
        " [   7913.25195312   39162.609375     39669.515625   ...,   21627.3046875\n",
        "    27219.4140625   423173.3125    ]\n",
        " [   7941.74707031   39144.84375      39655.703125   ...,   21642.92773438\n",
        "    27244.453125    423157.84375   ]\n",
        " ..., \n",
        " [   8873.22949219   37375.04296875   38472.078125   ...,   21334.23632812\n",
        "    27077.72265625  422174.21875   ]\n",
        " [   8846.12597656   37309.796875     38417.8828125  ...,   21305.75976562\n",
        "    27056.3125      422092.65625   ]\n",
        " [   8842.72167969   37286.9609375    38397.84375    ...,   21295.38867188\n",
        "    27005.46484375  422104.5625    ]]\n"
       ]
      }
     ],
     "prompt_number": 6
    },
    {
     "cell_type": "code",
     "collapsed": false,
     "input": [
      "np.savetxt(\"pre-corr.csv\", mean_signals, delimiter=\",\")"
     ],
     "language": "python",
     "metadata": {},
     "outputs": [],
     "prompt_number": 7
    },
    {
     "cell_type": "code",
     "collapsed": false,
     "input": [
      "\n",
      "import csv\n",
      "from itertools import izip\n",
      "a = izip(*csv.reader(open(\"pre-corr.csv\", \"rb\")))\n",
      "csv.writer(open(\"pre-corr-trans.csv\", \"wb\")).writerows(a)"
     ],
     "language": "python",
     "metadata": {},
     "outputs": [],
     "prompt_number": 8
    },
    {
     "cell_type": "code",
     "collapsed": false,
     "input": [],
     "language": "python",
     "metadata": {},
     "outputs": []
    },
    {
     "cell_type": "code",
     "collapsed": false,
     "input": [
      "import scipy.cluster.hierarchy as hc\n",
      "import pandas\n",
      "from matplotlib import pyplot\n",
      " \n",
      "# copy the data to the clipboard first\n",
      "d = pandas.read_clipboard(sep=\",\", index_col=0)\n",
      "d.columns = [int(x) for x in d.columns]\n",
      "\n",
      "link = hc.linkage(d.values, method='centroid')\n",
      "o1 = hc.leaves_list(link)\n",
      " \n",
      "mat = d.iloc[o1,:]\n",
      "mat = mat.iloc[:, o1[::-1]]\n",
      "pyplot.imshow(mat)"
     ],
     "language": "python",
     "metadata": {},
     "outputs": [
      {
       "metadata": {},
       "output_type": "pyout",
       "prompt_number": 2,
       "text": [
        "<matplotlib.image.AxesImage at 0x5821150>"
       ]
      }
     ],
     "prompt_number": 2
    },
    {
     "cell_type": "code",
     "collapsed": false,
     "input": [
      "print mat"
     ],
     "language": "python",
     "metadata": {},
     "outputs": [
      {
       "output_type": "stream",
       "stream": "stdout",
       "text": [
        "          75        162       106       190       69        67        118  \\\n",
        "0                                                                           \n",
        "5   -0.969387 -0.976248 -0.970000 -0.979955 -0.930904 -0.925359 -0.909268   \n",
        "131 -0.945828 -0.942273 -0.960477 -0.960518 -0.859500 -0.866522 -0.830338   \n",
        "40  -0.951271 -0.966346 -0.959358 -0.980043 -0.893053 -0.889680 -0.869123   \n",
        "142 -0.958963 -0.962416 -0.963596 -0.983287 -0.894757 -0.909638 -0.869445   \n",
        "165 -0.979561 -0.986490 -0.971467 -0.970885 -0.978341 -0.971996 -0.964457   \n",
        "166 -0.982327 -0.981925 -0.984684 -0.972161 -0.952220 -0.953109 -0.928823   \n",
        "212 -0.961274 -0.970577 -0.959601 -0.978718 -0.943394 -0.945225 -0.928047   \n",
        "137 -0.945273 -0.960313 -0.932832 -0.933484 -0.986415 -0.967991 -0.978238   \n",
        "80  -0.971154 -0.981112 -0.963354 -0.970095 -0.976283 -0.972563 -0.966108   \n",
        "31  -0.965785 -0.964973 -0.957523 -0.937558 -0.980183 -0.976253 -0.966740   \n",
        "21  -0.972786 -0.970072 -0.967073 -0.939080 -0.982829 -0.957009 -0.958627   \n",
        "103 -0.671782 -0.648512 -0.641857 -0.583749 -0.793731 -0.772780 -0.796559   \n",
        "138 -0.755381 -0.759267 -0.728586 -0.703662 -0.876906 -0.855680 -0.889279   \n",
        "160 -0.738464 -0.729394 -0.702653 -0.665000 -0.865880 -0.839258 -0.878383   \n",
        "35  -0.718803 -0.713342 -0.688125 -0.656891 -0.843392 -0.824439 -0.858310   \n",
        "7   -0.682532 -0.675408 -0.649672 -0.612671 -0.822094 -0.796460 -0.838012   \n",
        "173 -0.932044 -0.934849 -0.918084 -0.892194 -0.985645 -0.962345 -0.980388   \n",
        "203 -0.907481 -0.909925 -0.891340 -0.869509 -0.975216 -0.953431 -0.968484   \n",
        "119 -0.897757 -0.900218 -0.881673 -0.856460 -0.962903 -0.949134 -0.957015   \n",
        "28  -0.799828 -0.797480 -0.770629 -0.739354 -0.906038 -0.893495 -0.918754   \n",
        "54  -0.842620 -0.845491 -0.819702 -0.804146 -0.932061 -0.919159 -0.932118   \n",
        "89  -0.862084 -0.858805 -0.845129 -0.809313 -0.949928 -0.920159 -0.948142   \n",
        "130 -0.318191 -0.307529 -0.292637 -0.243352 -0.466035 -0.439430 -0.479350   \n",
        "122 -0.292138 -0.270542 -0.262011 -0.212403 -0.434455 -0.421148 -0.452681   \n",
        "123 -0.257155 -0.251550 -0.229913 -0.197410 -0.410374 -0.387383 -0.436284   \n",
        "90  -0.138588 -0.130632 -0.114132 -0.075985 -0.277794 -0.259009 -0.295117   \n",
        "44  -0.148926 -0.139535 -0.125845 -0.086759 -0.286717 -0.277734 -0.306870   \n",
        "169 -0.190095 -0.180738 -0.167192 -0.127428 -0.325130 -0.315984 -0.340223   \n",
        "26  -0.208606 -0.201036 -0.177393 -0.142388 -0.358123 -0.345714 -0.390322   \n",
        "210 -0.229336 -0.209453 -0.213512 -0.148371 -0.349449 -0.332316 -0.363117   \n",
        "..        ...       ...       ...       ...       ...       ...       ...   \n",
        "18   0.667730  0.659517  0.640784  0.583370  0.803787  0.774087  0.809404   \n",
        "201  0.704553  0.694115  0.683004  0.628534  0.825016  0.783771  0.826794   \n",
        "3    0.108302  0.147830  0.072228  0.131973  0.198413  0.136678  0.207314   \n",
        "48   0.329311  0.311452  0.337696  0.242979  0.349565  0.337480  0.306584   \n",
        "136 -0.140396 -0.088962 -0.158235 -0.103267 -0.105636 -0.121373 -0.083558   \n",
        "189  0.189039  0.164316  0.186190  0.206273  0.093577  0.112225  0.099218   \n",
        "156  0.959336  0.963967  0.958470  0.982308  0.894934  0.909507  0.871512   \n",
        "199  0.910600  0.901256  0.919160  0.934477  0.807625  0.826598  0.771617   \n",
        "163  0.942864  0.940727  0.947297  0.956732  0.856132  0.862264  0.821070   \n",
        "152  0.927702  0.933002  0.930179  0.958282  0.844224  0.857651  0.818167   \n",
        "79   0.937256  0.937606  0.945064  0.967444  0.844534  0.859327  0.812900   \n",
        "129  0.860104  0.869969  0.875380  0.912782  0.747983  0.754341  0.713543   \n",
        "172  0.875647  0.874803  0.894796  0.910889  0.750879  0.755731  0.705892   \n",
        "27   0.767816  0.780724  0.784731  0.841745  0.645750  0.659914  0.615196   \n",
        "96   0.808958  0.817278  0.827329  0.861808  0.687250  0.690111  0.651616   \n",
        "29   0.812465  0.814380  0.829256  0.858568  0.683024  0.687806  0.647597   \n",
        "204  0.908477  0.919804  0.897077  0.886031  0.966259  0.939639  0.955080   \n",
        "158  0.909339  0.905669  0.887440  0.859701  0.971781  0.966141  0.972797   \n",
        "46   0.884031  0.884462  0.857294  0.829597  0.968286  0.940805  0.968282   \n",
        "200  0.807086  0.809373  0.779997  0.761993  0.915285  0.893547  0.927775   \n",
        "32   0.854575  0.846418  0.833549  0.780417  0.933317  0.920450  0.934445   \n",
        "108  0.858942  0.849683  0.835695  0.793211  0.941472  0.924038  0.938111   \n",
        "113  0.978655  0.982962  0.968682  0.959357  0.988002  0.978455  0.972794   \n",
        "118  0.927890  0.944835  0.906312  0.904795  0.989147  0.965435  1.000000   \n",
        "67   0.962696  0.955873  0.942477  0.931042  0.973526  1.000000  0.965435   \n",
        "69   0.957274  0.964272  0.940825  0.927586  1.000000  0.973526  0.989147   \n",
        "190  0.972769  0.983072  0.973256  1.000000  0.927586  0.931042  0.904795   \n",
        "106  0.992312  0.980672  1.000000  0.973256  0.940825  0.942477  0.906312   \n",
        "162  0.985362  1.000000  0.980672  0.983072  0.964272  0.955873  0.944835   \n",
        "75   1.000000  0.985362  0.992312  0.972769  0.957274  0.962696  0.927890   \n",
        "\n",
        "          113       108       32     ...          31        80        137  \\\n",
        "0                                    ...                                    \n",
        "5   -0.957872 -0.789384 -0.774538    ...     0.931949  0.966409  0.924276   \n",
        "131 -0.895472 -0.704241 -0.700964    ...     0.892722  0.920917  0.858247   \n",
        "40  -0.926327 -0.735068 -0.721408    ...     0.913227  0.947903  0.901437   \n",
        "142 -0.931938 -0.744165 -0.724914    ...     0.913718  0.949462  0.897640   \n",
        "165 -0.989196 -0.881863 -0.871966    ...     0.982469  0.990216  0.975545   \n",
        "166 -0.973975 -0.848160 -0.842580    ...     0.967709  0.975451  0.949503   \n",
        "212 -0.959610 -0.823157 -0.810143    ...     0.963614  0.985607  0.948529   \n",
        "137 -0.981508 -0.933062 -0.918704    ...     0.983800  0.977701  1.000000   \n",
        "80  -0.984123 -0.878779 -0.871523    ...     0.984759  1.000000  0.977701   \n",
        "31  -0.979941 -0.917883 -0.911611    ...     1.000000  0.984759  0.983800   \n",
        "21  -0.983817 -0.909076 -0.901784    ...     0.984246  0.974995  0.976234   \n",
        "103 -0.744032 -0.931228 -0.926225    ...     0.757364  0.705268  0.784509   \n",
        "138 -0.831531 -0.963124 -0.954220    ...     0.852752  0.815808  0.880998   \n",
        "160 -0.816782 -0.961444 -0.950882    ...     0.825804  0.785308  0.857232   \n",
        "35  -0.792386 -0.942248 -0.942066    ...     0.821093  0.779512  0.843145   \n",
        "7   -0.767107 -0.933411 -0.926538    ...     0.780717  0.740162  0.814748   \n",
        "173 -0.971429 -0.962185 -0.959413    ...     0.980251  0.958293  0.983468   \n",
        "203 -0.951575 -0.974912 -0.962674    ...     0.968468  0.943764  0.979217   \n",
        "119 -0.945135 -0.971654 -0.969557    ...     0.960363  0.930849  0.967878   \n",
        "28  -0.863037 -0.970786 -0.971786    ...     0.884215  0.848572  0.902709   \n",
        "54  -0.900210 -0.971338 -0.959221    ...     0.917934  0.891035  0.942162   \n",
        "89  -0.916129 -0.966949 -0.964093    ...     0.939978  0.909607  0.945461   \n",
        "130 -0.413093 -0.659318 -0.669252    ...     0.408513  0.371806  0.453595   \n",
        "122 -0.383707 -0.631023 -0.638676    ...     0.385396  0.346582  0.421244   \n",
        "123 -0.353248 -0.591670 -0.609223    ...     0.356300  0.332863  0.394950   \n",
        "90  -0.240554 -0.454340 -0.472479    ...     0.216864  0.201446  0.255203   \n",
        "44  -0.246833 -0.477028 -0.497582    ...     0.233112  0.210829  0.270450   \n",
        "169 -0.285277 -0.508303 -0.526725    ...     0.271311  0.250946  0.308365   \n",
        "26  -0.308486 -0.549969 -0.573518    ...     0.299205  0.277140  0.339687   \n",
        "210 -0.304799 -0.537695 -0.573992    ...     0.306333  0.271684  0.325456   \n",
        "..        ...       ...       ...    ...          ...       ...       ...   \n",
        "18   0.754034  0.939630  0.935999    ...    -0.758911 -0.707846 -0.792069   \n",
        "201  0.775463  0.938780  0.939573    ...    -0.800561 -0.745290 -0.819629   \n",
        "3    0.172860  0.142602  0.096922    ...    -0.113017 -0.171209 -0.199365   \n",
        "48   0.352040  0.361890  0.361402    ...    -0.317132 -0.296391 -0.328461   \n",
        "136 -0.128845 -0.143890 -0.114263    ...     0.130366  0.117636  0.077902   \n",
        "189  0.131487 -0.001410  0.003664    ...    -0.132697 -0.133803 -0.101753   \n",
        "156  0.930912  0.741463  0.723522    ...    -0.908344 -0.942080 -0.895730   \n",
        "199  0.853066  0.632610  0.614751    ...    -0.823306 -0.869330 -0.803166   \n",
        "163  0.896231  0.688272  0.674331    ...    -0.862751 -0.901796 -0.846716   \n",
        "152  0.887615  0.669975  0.653351    ...    -0.850224 -0.898453 -0.841726   \n",
        "79   0.889635  0.669514  0.656343    ...    -0.863216 -0.903721 -0.845006   \n",
        "129  0.797674  0.556480  0.534624    ...    -0.763976 -0.816723 -0.754125   \n",
        "172  0.801296  0.558281  0.545710    ...    -0.773143 -0.817155 -0.751307   \n",
        "27   0.694266  0.437774  0.404964    ...    -0.676290 -0.731903 -0.665140   \n",
        "96   0.735942  0.492904  0.469846    ...    -0.702519 -0.755016 -0.693951   \n",
        "29   0.735891  0.475480  0.454680    ...    -0.701586 -0.757017 -0.682729   \n",
        "204  0.951771  0.948468  0.939994    ...    -0.960519 -0.943459 -0.972270   \n",
        "158  0.953641  0.976686  0.977241    ...    -0.963458 -0.938537 -0.963989   \n",
        "46   0.940224  0.984267  0.970069    ...    -0.941646 -0.914618 -0.957865   \n",
        "200  0.876380  0.972327  0.963236    ...    -0.899517 -0.866585 -0.916915   \n",
        "32   0.906820  0.988934  1.000000    ...    -0.911611 -0.871523 -0.918704   \n",
        "108  0.913464  1.000000  0.988934    ...    -0.917883 -0.878779 -0.933062   \n",
        "113  1.000000  0.913464  0.906820    ...    -0.979941 -0.984123 -0.981508   \n",
        "118  0.972794  0.938111  0.934445    ...    -0.966740 -0.966108 -0.978238   \n",
        "67   0.978455  0.924038  0.920450    ...    -0.976253 -0.972563 -0.967991   \n",
        "69   0.988002  0.941472  0.933317    ...    -0.980183 -0.976283 -0.986415   \n",
        "190  0.959357  0.793211  0.780417    ...    -0.937558 -0.970095 -0.933484   \n",
        "106  0.968682  0.835695  0.833549    ...    -0.957523 -0.963354 -0.932832   \n",
        "162  0.982962  0.849683  0.846418    ...    -0.964973 -0.981112 -0.960313   \n",
        "75   0.978655  0.858942  0.854575    ...    -0.965785 -0.971154 -0.945273   \n",
        "\n",
        "          212       166       165       142       40        131       5    \n",
        "0                                                                          \n",
        "5    0.964551  0.974541  0.971953  0.985759  0.980274  0.959097  1.000000  \n",
        "131  0.943374  0.953115  0.923957  0.969537  0.977818  1.000000  0.959097  \n",
        "40   0.962693  0.958606  0.947782  0.983634  1.000000  0.977818  0.980274  \n",
        "142  0.963960  0.968504  0.955486  1.000000  0.983634  0.969537  0.985759  \n",
        "165  0.977906  0.985930  1.000000  0.955486  0.947782  0.923957  0.971953  \n",
        "166  0.971804  1.000000  0.985930  0.968504  0.958606  0.953115  0.974541  \n",
        "212  1.000000  0.971804  0.977906  0.963960  0.962693  0.943374  0.964551  \n",
        "137  0.948529  0.949503  0.975545  0.897640  0.901437  0.858247  0.924276  \n",
        "80   0.985607  0.975451  0.990216  0.949462  0.947903  0.920917  0.966409  \n",
        "31   0.963614  0.967709  0.982469  0.913718  0.913227  0.892722  0.931949  \n",
        "21   0.948538  0.969677  0.978889  0.914424  0.922176  0.900001  0.946522  \n",
        "103  0.637171  0.648861  0.694261  0.519571  0.515726  0.488399  0.576131  \n",
        "138  0.763868  0.751599  0.798955  0.641453  0.640747  0.599355  0.685611  \n",
        "160  0.715316  0.725399  0.777355  0.610768  0.601523  0.560664  0.667216  \n",
        "35   0.721237  0.704060  0.754471  0.584540  0.586679  0.556495  0.630779  \n",
        "7    0.669311  0.667921  0.723775  0.553205  0.553663  0.512311  0.611856  \n",
        "173  0.918946  0.932647  0.959668  0.850602  0.852329  0.822772  0.887557  \n",
        "203  0.905760  0.906827  0.935348  0.824063  0.826243  0.794005  0.859724  \n",
        "119  0.893585  0.898187  0.926238  0.806296  0.805068  0.771909  0.835092  \n",
        "28   0.790397  0.796224  0.836959  0.686261  0.676574  0.650387  0.727181  \n",
        "54   0.846965  0.842547  0.880200  0.750952  0.737680  0.703186  0.781843  \n",
        "89   0.861650  0.858863  0.895334  0.760063  0.764959  0.737044  0.806572  \n",
        "130  0.299231  0.287528  0.338045  0.164246  0.182506  0.143345  0.233026  \n",
        "122  0.281931  0.259313  0.309709  0.138364  0.149092  0.115047  0.203603  \n",
        "123  0.273713  0.227573  0.284012  0.109306  0.130105  0.100755  0.178775  \n",
        "90   0.138450  0.101526  0.155391 -0.002669  0.016317 -0.033366  0.074131  \n",
        "44   0.156049  0.118442  0.166260  0.006379  0.020583 -0.018477  0.073721  \n",
        "169  0.191413  0.150744  0.202120  0.047510  0.068260  0.020624  0.115212  \n",
        "26   0.213414  0.183180  0.232994  0.060488  0.075878  0.044016  0.130560  \n",
        "210  0.214000  0.199529  0.228971  0.063513  0.086377  0.083855  0.127739  \n",
        "..        ...       ...       ...       ...       ...       ...       ...  \n",
        "18  -0.634191 -0.650789 -0.701839 -0.519331 -0.522146 -0.478564 -0.586302  \n",
        "201 -0.684941 -0.685228 -0.731697 -0.549845 -0.567060 -0.538692 -0.606989  \n",
        "3   -0.107757 -0.102989 -0.153305 -0.146006 -0.148480 -0.036047 -0.214468  \n",
        "48  -0.206992 -0.277389 -0.298606 -0.253788 -0.269610 -0.223620 -0.334896  \n",
        "136  0.150076  0.127833  0.110226  0.133570  0.099685  0.113138  0.102249  \n",
        "189 -0.165755 -0.203812 -0.190347 -0.243402 -0.209147 -0.248165 -0.196570  \n",
        "156 -0.959381 -0.957712 -0.954569 -0.989466 -0.979755 -0.965040 -0.978504  \n",
        "199 -0.890749 -0.899004 -0.880397 -0.960449 -0.953870 -0.959348 -0.946174  \n",
        "163 -0.917345 -0.937320 -0.915164 -0.973394 -0.974042 -0.970094 -0.968607  \n",
        "152 -0.915493 -0.929479 -0.910975 -0.978218 -0.971478 -0.960948 -0.965720  \n",
        "79  -0.930083 -0.941459 -0.914600 -0.979293 -0.972164 -0.976685 -0.959307  \n",
        "129 -0.858013 -0.867120 -0.833685 -0.937384 -0.940813 -0.944778 -0.906441  \n",
        "172 -0.853556 -0.873266 -0.835658 -0.931878 -0.937472 -0.956730 -0.905256  \n",
        "27  -0.789946 -0.773113 -0.745420 -0.877556 -0.888559 -0.889067 -0.830258  \n",
        "96  -0.795172 -0.808809 -0.774629 -0.892524 -0.907169 -0.914588 -0.863529  \n",
        "29  -0.791207 -0.813697 -0.778037 -0.899110 -0.901570 -0.918234 -0.872069  \n",
        "204 -0.915453 -0.900768 -0.931014 -0.825561 -0.836116 -0.797857 -0.855405  \n",
        "158 -0.892847 -0.900985 -0.932771 -0.815224 -0.806971 -0.778667 -0.848387  \n",
        "46  -0.861019 -0.876878 -0.917113 -0.790908 -0.782849 -0.737044 -0.836170  \n",
        "200 -0.819541 -0.800087 -0.853095 -0.697429 -0.698074 -0.659169 -0.741182  \n",
        "32  -0.810143 -0.842580 -0.871966 -0.724914 -0.721408 -0.700964 -0.774538  \n",
        "108 -0.823157 -0.848160 -0.881863 -0.744165 -0.735068 -0.704241 -0.789384  \n",
        "113 -0.959610 -0.973975 -0.989196 -0.931938 -0.926327 -0.895472 -0.957872  \n",
        "118 -0.928047 -0.928823 -0.964457 -0.869445 -0.869123 -0.830338 -0.909268  \n",
        "67  -0.945225 -0.953109 -0.971996 -0.909638 -0.889680 -0.866522 -0.925359  \n",
        "69  -0.943394 -0.952220 -0.978341 -0.894757 -0.893053 -0.859500 -0.930904  \n",
        "190 -0.978718 -0.972161 -0.970885 -0.983287 -0.980043 -0.960518 -0.979955  \n",
        "106 -0.959601 -0.984684 -0.971467 -0.963596 -0.959358 -0.960477 -0.970000  \n",
        "162 -0.970577 -0.981925 -0.986490 -0.962416 -0.966346 -0.942273 -0.976248  \n",
        "75  -0.961274 -0.982327 -0.979561 -0.958963 -0.951271 -0.945828 -0.969387  \n",
        "\n",
        "[140 rows x 140 columns]\n"
       ]
      }
     ],
     "prompt_number": 3
    },
    {
     "cell_type": "code",
     "collapsed": false,
     "input": [
      "import json\n",
      "js = {\n",
      "    'ind': mat.index.values.tolist(),\n",
      "    'var': mat.columns.values.tolist(),\n",
      "    'corr': mat.values.tolist()\n",
      "}\n",
      "output = json.dumps(js)\n"
     ],
     "language": "python",
     "metadata": {},
     "outputs": [],
     "prompt_number": 6
    },
    {
     "cell_type": "code",
     "collapsed": false,
     "input": [
      "with open('data.json','w') as outfile:\n",
      "    json.dump(js, outfile)\n",
      "\n"
     ],
     "language": "python",
     "metadata": {},
     "outputs": [],
     "prompt_number": 10
    },
    {
     "cell_type": "code",
     "collapsed": false,
     "input": [],
     "language": "python",
     "metadata": {},
     "outputs": []
    }
   ],
   "metadata": {}
  }
 ]
}