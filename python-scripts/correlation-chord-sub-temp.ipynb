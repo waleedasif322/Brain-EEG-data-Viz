{
 "metadata": {
  "name": "",
  "signature": "sha256:a2552711fc88476370d6dec8ca00a72354446a7a8adad0f87693707a353f0f86"
 },
 "nbformat": 3,
 "nbformat_minor": 0,
 "worksheets": [
  {
   "cells": [
    {
     "cell_type": "code",
     "collapsed": false,
     "input": [
      "from neo import io\n",
      "import matplotlib.pyplot as plt\n",
      "from matplotlib.pyplot import show\n",
      "import numpy as np\n",
      "from scipy.stats.stats import pearsonr"
     ],
     "language": "python",
     "metadata": {},
     "outputs": [],
     "prompt_number": 2
    },
    {
     "cell_type": "code",
     "collapsed": false,
     "input": [
      "r = io.BrainVisionIO( filename= 'eeg_suj1_wm2_day1.eeg', filename2='eeg_suj1_wm2_day1.vhdr')\n",
      "seg = r.read_segment(lazy=False, cascade= True, )\n",
      "siglist = seg.analogsignals[0:64]"
     ],
     "language": "python",
     "metadata": {},
     "outputs": [],
     "prompt_number": 3
    },
    {
     "cell_type": "code",
     "collapsed": false,
     "input": [
      "with open('intervals.txt') as file:\n",
      "    lines = file.read().splitlines()"
     ],
     "language": "python",
     "metadata": {},
     "outputs": [],
     "prompt_number": 4
    },
    {
     "cell_type": "code",
     "collapsed": false,
     "input": [
      "numbers = [int(e.strip()) for e in lines]\n",
      "signal_list = np.asarray(siglist)\n",
      "#total_mean_signal = np.average(signal_list)\n",
      "#print total_mean_signal"
     ],
     "language": "python",
     "metadata": {},
     "outputs": [],
     "prompt_number": 5
    },
    {
     "cell_type": "code",
     "collapsed": false,
     "input": [
      "image_index = 0 # which image are we on\n",
      "i=0 # will iterate 64 times for all data\n",
      "j=0 # for each i (node), j will iterate 1.8 million times which is half an hour of data (1.8 million ms)\n",
      "\n",
      "# While we are in the inner for loop, compute the mean signal for two nodes at a time within a timeframe each image was shown\n",
      "# and store in a 2D array.\n",
      "# e.g. curr_image = numbers[i], next_image = numbers[i+1], np.average(signal_list[curr_image:next_image])\n",
      "# store each mean signal you get in a multidimensional array that is 140 X 64. \n",
      "# Then run pearson correlation on array like this:\n",
      "# e.g. pearson_cor(mean_signals[0],mean_signals[1]), pearson_cor(mean_signals[0],mean_signals[2])...etc\n",
      "# final array should 140 X 140\n",
      "\n",
      "mean_signals = np.zeros((140,64), dtype=np.float32) # This will store the final correlational data for each \n",
      "final_correlation = np.zeros((140,140), dtype=np.float32)\n",
      "\n",
      "while i < len(signal_list): #iterate over nodes\n",
      "    j = 0\n",
      "    image_index = 0\n",
      "    while j < len(signal_list[i]): # iterate over time in ms\n",
      "        if((j>= 415730) & (j<=1244423)):\n",
      "            if j == numbers[image_index]:\n",
      "                if numbers[image_index] == 1244423: # if last image\n",
      "                    curr_image = numbers[image_index]\n",
      "                    next_image = curr_image + 2000\n",
      "                else:\n",
      "                    curr_image = numbers[image_index]\n",
      "                    next_image = numbers[image_index + 1]\n",
      "                average_val = np.average(signal_list[i][curr_image:next_image])\n",
      "                mean_signals[image_index][i] = average_val # assign an average signal to the current image\n",
      "                if j < 1244423: # if last image\n",
      "                    image_index += 1\n",
      "        j += 1\n",
      "    i += 1\n",
      "    \n",
      "print mean_signals\n",
      "# Here I subtract the mean signal of the nodes at each timeframe\n",
      "\n",
      "c=0\n",
      "d=0\n",
      "e=0\n",
      "average_signal_for_current_image = 0.0\n",
      "subtracted_mean_signals = np.zeros((140,64), dtype=np.float32)\n",
      "\n",
      "while c < len(mean_signals): # iterate over images\n",
      "    d=0\n",
      "    e=0\n",
      "    average_signal_for_current_image = 0\n",
      "    while d < len(mean_signals[c]): # iterate over nodes\n",
      "        average_signal_for_current_image += mean_signals[c][d]\n",
      "        d += 1\n",
      "    while e < len(mean_signals[c]):\n",
      "        subtracted_mean_signals[c][e] = mean_signals[c][e] -  average_signal_for_current_image/64.0\n",
      "        e += 1\n",
      "    c += 1\n",
      "    \n",
      "print subtracted_mean_signals\n",
      "\n",
      "# Now run pearson corr bw every image\n",
      "a = 0\n",
      "b = 0\n",
      "node = 0\n",
      "while a < len(subtracted_mean_signals): # iterate images\n",
      "    b = 0\n",
      "    while b < len(subtracted_mean_signals): # iterate second image\n",
      "        curr_corr = spearmanr(subtracted_mean_signals[a], subtracted_mean_signals[b])\n",
      "        final_correlation[a][b] = curr_corr[0]\n",
      "        node += 1\n",
      "        b += 1\n",
      "    a += 1\n",
      "    \n",
      "print final_correlation\n",
      "print final_correlation.size\n"
     ],
     "language": "python",
     "metadata": {},
     "outputs": [
      {
       "output_type": "stream",
       "stream": "stdout",
       "text": [
        "[[   7881.18847656   39168.6484375    39680.15234375 ...,   21648.0703125\n",
        "    27252.82617188  423168.65625   ]\n",
        " [   7913.25195312   39162.609375     39669.515625   ...,   21627.3046875\n",
        "    27219.4140625   423173.3125    ]\n",
        " [   7941.74707031   39144.84375      39655.703125   ...,   21642.92773438\n",
        "    27244.453125    423157.84375   ]\n",
        " ..., \n",
        " [   8873.22949219   37375.04296875   38472.078125   ...,   21334.23632812\n",
        "    27077.72265625  422174.21875   ]\n",
        " [   8846.12597656   37309.796875     38417.8828125  ...,   21305.75976562\n",
        "    27056.3125      422092.65625   ]\n",
        " [   8842.72167969   37286.9609375    38397.84375    ...,   21295.38867188\n",
        "    27005.46484375  422104.5625    ]]\n",
        "[[ -3.07366270e+04   5.50833130e+02   1.06233704e+03 ...,  -1.69697441e+04\n",
        "   -1.13649893e+04   3.84550844e+05]\n",
        " [ -3.06929570e+04   5.56399719e+02   1.06330591e+03 ...,  -1.69789043e+04\n",
        "   -1.13867959e+04   3.84567094e+05]\n",
        " [ -3.06553320e+04   5.47764709e+02   1.05862402e+03 ...,  -1.69541504e+04\n",
        "   -1.13526260e+04   3.84560750e+05]\n",
        " ..., \n",
        " [ -2.84278477e+04   7.39667206e+01   1.17100183e+03 ...,  -1.59668398e+04\n",
        "   -1.02233535e+04   3.84873156e+05]\n",
        " [ -2.84019355e+04   6.17346039e+01   1.16982056e+03 ...,  -1.59423027e+04\n",
        "   -1.01917500e+04   3.84844594e+05]\n",
        " [ -2.83781719e+04   6.60675201e+01   1.17695032e+03 ...,  -1.59255049e+04\n",
        "   -1.02154287e+04   3.84883656e+05]]"
       ]
      },
      {
       "output_type": "stream",
       "stream": "stdout",
       "text": [
        "\n",
        "[[ 1.          1.          0.99999988 ...,  0.99968505  0.9996829\n",
        "   0.99968171]\n",
        " [ 1.          1.          0.99999988 ...,  0.99968684  0.99968481\n",
        "   0.99968368]\n",
        " [ 0.99999988  0.99999988  1.         ...,  0.99969709  0.99969482\n",
        "   0.99969375]\n",
        " ..., \n",
        " [ 0.99968505  0.99968684  0.99969709 ...,  1.          0.99999988\n",
        "   0.99999988]\n",
        " [ 0.9996829   0.99968481  0.99969482 ...,  0.99999988  1.          0.99999976]\n",
        " [ 0.99968171  0.99968368  0.99969375 ...,  0.99999988  0.99999976  1.        ]]"
       ]
      },
      {
       "output_type": "stream",
       "stream": "stdout",
       "text": [
        "\n",
        "19600\n"
       ]
      }
     ],
     "prompt_number": 47
    },
    {
     "cell_type": "code",
     "collapsed": false,
     "input": [
      "print subtracted_mean_signals[0][2]"
     ],
     "language": "python",
     "metadata": {},
     "outputs": [
      {
       "output_type": "stream",
       "stream": "stdout",
       "text": [
        "1062.34\n"
       ]
      }
     ],
     "prompt_number": 55
    },
    {
     "cell_type": "code",
     "collapsed": false,
     "input": [
      "from scipy.stats.stats import spearmanr\n",
      "# Now run pearson corr bw every image\n",
      "a = 0\n",
      "b = 0\n",
      "node = 0\n",
      "while a < len(subtracted_mean_signals): # iterate images\n",
      "    b = 0\n",
      "    while b < len(subtracted_mean_signals): # iterate second image\n",
      "        curr_corr = spearmanr(subtracted_mean_signals[a], subtracted_mean_signals[b])\n",
      "        final_correlation[a][b] = curr_corr[0]\n",
      "        node += 1\n",
      "        b += 1\n",
      "    a += 1\n",
      "    \n",
      "print final_correlation\n",
      "print final_correlation.size"
     ],
     "language": "python",
     "metadata": {},
     "outputs": [
      {
       "output_type": "stream",
       "stream": "stdout",
       "text": [
        "[[ 1.          0.99990845  0.99995422 ...,  0.9960165   0.9960165\n",
        "   0.9960165 ]\n",
        " [ 0.99990845  1.          0.99995422 ...,  0.99592489  0.99592489\n",
        "   0.99592489]\n",
        " [ 0.99995422  0.99995422  1.         ...,  0.99597067  0.99597067\n",
        "   0.99597067]\n",
        " ..., \n",
        " [ 0.9960165   0.99592489  0.99597067 ...,  1.          1.          1.        ]\n",
        " [ 0.9960165   0.99592489  0.99597067 ...,  1.          1.          1.        ]\n",
        " [ 0.9960165   0.99592489  0.99597067 ...,  1.          1.          1.        ]]\n",
        "19600\n"
       ]
      }
     ],
     "prompt_number": 51
    },
    {
     "cell_type": "code",
     "collapsed": false,
     "input": [
      "from scipy.spatial.distance import pdist, squareform\n",
      "from scipy.cluster.hierarchy import linkage, dendrogram\n",
      "\n",
      "\n",
      "new_corr = final_correlation.astype(np.float16)\n",
      "\n",
      "data_dist = pdist(final_correlation, 'correlation') # computing the distance\n",
      "print data_dist\n",
      "data_link = linkage(final_correlation, method='ward') # computing the linkage\n",
      "\n",
      "\n",
      "# Compute and plot first dendrogram.\n",
      "fig = plt.figure(figsize=(8,8))\n",
      "# x ywidth height\n",
      "ax1 = fig.add_axes([0.05,0.1,0.2,0.6])\n",
      "Y = linkage(data_dist, 'average')\n",
      "print Y[0][2]\n",
      "Z1 = dendrogram(Y, orientation='right') # adding/removing the axes\n",
      "ax1.set_xticks([])\n",
      "\n",
      "# Compute and plot second dendrogram.\n",
      "ax2 = fig.add_axes([0.3,0.71,0.6,0.2])\n",
      "Z2 = dendrogram(Y)\n",
      "ax2.set_xticks([])\n",
      "ax2.set_yticks([])\n",
      "\n",
      "#Compute and plot the heatmap\n",
      "axmatrix = fig.add_axes([0.3,0.1,0.6,0.6])\n",
      "idx1 = Z1['leaves']\n",
      "idx2 = Z2['leaves']\n",
      "D = squareform(data_dist)\n",
      "D = D[idx1,:]\n",
      "D = D[:,idx2]\n",
      "im = axmatrix.matshow(D, aspect='auto', origin='lower', cmap=plt.cm.RdBu)\n",
      "axmatrix.set_xticks([])\n",
      "axmatrix.set_yticks([])\n",
      "\n",
      "# Plot colorbar.\n",
      "axcolor = fig.add_axes([0.91,0.1,0.02,0.6])\n",
      "plt.colorbar(im, cax=axcolor)\n"
     ],
     "language": "python",
     "metadata": {},
     "outputs": [
      {
       "output_type": "stream",
       "stream": "stdout",
       "text": [
        "[ 0.59725566  0.72314648  1.06893859 ...,  0.48108052  1.36073285\n",
        "  0.41913753]\n",
        "1.77283743241e-10"
       ]
      },
      {
       "output_type": "stream",
       "stream": "stdout",
       "text": [
        "\n"
       ]
      },
      {
       "metadata": {},
       "output_type": "pyout",
       "prompt_number": 30,
       "text": [
        "<matplotlib.colorbar.Colorbar instance at 0x478ddf38>"
       ]
      }
     ],
     "prompt_number": 30
    },
    {
     "cell_type": "code",
     "collapsed": false,
     "input": [
      "np.savetxt(\"pre-corr-data.csv\", subtracted_mean_signals, delimiter=\",\")"
     ],
     "language": "python",
     "metadata": {},
     "outputs": [],
     "prompt_number": 7
    },
    {
     "cell_type": "code",
     "collapsed": false,
     "input": [
      "import csv\n",
      "from itertools import izip\n",
      "a = izip(*csv.reader(open(\"pre-corr-data.csv\", \"rb\")))\n",
      "csv.writer(open(\"pre-corr-data-transposed.csv\", \"wb\")).writerows(a)"
     ],
     "language": "python",
     "metadata": {},
     "outputs": [],
     "prompt_number": 1
    },
    {
     "cell_type": "code",
     "collapsed": false,
     "input": [
      "import pandas\n",
      "import scipy.cluster.hierarchy as hc\n",
      "\n",
      "d = pandas.read_clipboard(sep=\",\", index_col=0)\n",
      "\n",
      "link = hc.linkage(d.values, method='average')\n",
      "o1 = hc.leaves_list(link)\n",
      "\n",
      "mat = d.values[o1,:]\n",
      "mat = mat[:, o1[::-1]]\n",
      "print mat\n",
      "plt.imshow(mat)"
     ],
     "language": "python",
     "metadata": {},
     "outputs": [
      {
       "output_type": "stream",
       "stream": "stdout",
       "text": [
        "[[-0.96938699 -0.97624838 -0.97000015 ...,  0.98027378  0.95909691  1.        ]\n",
        " [-0.94582814 -0.9422732  -0.96047664 ...,  0.97781831  1.          0.95909691]\n",
        " [-0.95127064 -0.96634573 -0.95935792 ...,  1.          0.97781831\n",
        "   0.98027378]\n",
        " ..., \n",
        " [ 0.99231207  0.98067212  1.         ..., -0.95935792 -0.96047664\n",
        "  -0.97000015]\n",
        " [ 0.98536187  1.          0.98067212 ..., -0.96634573 -0.9422732\n",
        "  -0.97624838]\n",
        " [ 1.          0.98536187  0.99231207 ..., -0.95127064 -0.94582814\n",
        "  -0.96938699]]\n"
       ]
      },
      {
       "metadata": {},
       "output_type": "pyout",
       "prompt_number": 31,
       "text": [
        "<matplotlib.image.AxesImage at 0x46970150>"
       ]
      }
     ],
     "prompt_number": 31
    },
    {
     "cell_type": "code",
     "collapsed": false,
     "input": [
      "a = np.random.rand(3,2)"
     ],
     "language": "python",
     "metadata": {},
     "outputs": []
    },
    {
     "cell_type": "code",
     "collapsed": false,
     "input": [
      "json_corr = final_correlation.tolist()\n",
      "# with open('data.json','w') as outfile:\n",
      "#     json.dump(json_corr, outfile)\n",
      "\n",
      "# np.savetxt(\"correlation-chord-subtracted-dec-3rd.csv\", final_correlation, delimiter=\",\")"
     ],
     "language": "python",
     "metadata": {},
     "outputs": [],
     "prompt_number": 27
    },
    {
     "cell_type": "code",
     "collapsed": false,
     "input": [
      "import seaborn as sns\n",
      "from pandas import *\n",
      "sns.set(context=\"paper\", font=\"monospace\")\n",
      "df = DataFrame(data=final_correlation)\n",
      "\n",
      "f, ax = plt.subplots(figsize=(12, 9))\n",
      "sns.heatmap(df, vmax=.8, linewidths=0, square=True)\n",
      "f.tight_layout()\n"
     ],
     "language": "python",
     "metadata": {},
     "outputs": [],
     "prompt_number": 29
    },
    {
     "cell_type": "code",
     "collapsed": false,
     "input": [
      "subtracted_mean_signals_pre = np.zeros((64,140), np.float32)\n",
      "c=0\n",
      "e=0\n",
      "d=0\n",
      "while c < len(mean_signals): # iterate over images\n",
      "    d=0\n",
      "    e=0\n",
      "    average_signal_for_current_image = 0\n",
      "    while d < len(mean_signals[c]): # iterate over nodes\n",
      "        average_signal_for_current_image += mean_signals[c][d]\n",
      "        d += 1\n",
      "    while e < len(mean_signals[c]):\n",
      "        subtracted_mean_signals_pre[e][c] = mean_signals[c][e] -  average_signal_for_current_image/64.0\n",
      "        e += 1\n",
      "    c += 1\n",
      "    \n",
      "print subtracted_mean_signals_pre\n",
      "\n"
     ],
     "language": "python",
     "metadata": {},
     "outputs": [
      {
       "output_type": "stream",
       "stream": "stdout",
       "text": [
        "[[ -3.07366270e+04  -3.06929570e+04  -3.06553320e+04 ...,  -2.84278477e+04\n",
        "   -2.84019355e+04  -2.83781719e+04]\n",
        " [  5.50833130e+02   5.56399719e+02   5.47764709e+02 ...,   7.39667206e+01\n",
        "    6.17346039e+01   6.60675201e+01]\n",
        " [  1.06233704e+03   1.06330591e+03   1.05862402e+03 ...,   1.17100183e+03\n",
        "    1.16982056e+03   1.17695032e+03]\n",
        " ..., \n",
        " [ -1.69697441e+04  -1.69789043e+04  -1.69541504e+04 ...,  -1.59668398e+04\n",
        "   -1.59423027e+04  -1.59255049e+04]\n",
        " [ -1.13649893e+04  -1.13867959e+04  -1.13526260e+04 ...,  -1.02233535e+04\n",
        "   -1.01917500e+04  -1.02154287e+04]\n",
        " [  3.84550844e+05   3.84567094e+05   3.84560750e+05 ...,   3.84873156e+05\n",
        "    3.84844594e+05   3.84883656e+05]]\n"
       ]
      }
     ],
     "prompt_number": 48
    },
    {
     "cell_type": "code",
     "collapsed": false,
     "input": [
      "np.savetxt(\"pre-correlation-shaped\", subtracted_mean_signals_pre, delimiter=\",\")"
     ],
     "language": "python",
     "metadata": {},
     "outputs": []
    },
    {
     "cell_type": "code",
     "collapsed": false,
     "input": [
      "image_index = 0 # which image are we on\n",
      "i=0 # will iterate 64 times for all data\n",
      "j=0 # for each i (node), j will iterate 1.8 million times which is half an hour of data (1.8 million ms)\n",
      "\n",
      "mean_signals = np.zeros((140,64), dtype=np.float32) # This will store the final correlational data for each \n",
      "final_correlation = np.zeros((140,140), dtype=np.float32)\n",
      "\n",
      "while i < len(signal_list): #iterate over nodes\n",
      "    j = 0\n",
      "    image_index = 0\n",
      "    while j < len(signal_list[i]): # iterate over time in ms\n",
      "        if((j>= 415730) & (j<=1244423)):\n",
      "            if j == numbers[image_index]:\n",
      "                if numbers[image_index] == 1244423: # if last image\n",
      "                    curr_image = numbers[image_index]\n",
      "                    next_image = curr_image + 2000\n",
      "                else:\n",
      "                    curr_image = numbers[image_index]\n",
      "                    next_image = numbers[image_index + 1]\n",
      "                average_val = np.average(signal_list[i][curr_image:next_image])\n",
      "                mean_signals[image_index][i] = average_val # assign an average signal to the current image\n",
      "                if j < 1244423: # if last image\n",
      "                    image_index += 1\n",
      "        j += 1\n",
      "    i += 1\n",
      "    \n",
      "print mean_signals"
     ],
     "language": "python",
     "metadata": {},
     "outputs": [
      {
       "output_type": "stream",
       "stream": "stdout",
       "text": [
        "[[   7881.18847656   39168.6484375    39680.15234375 ...,   21648.0703125\n",
        "    27252.82617188  423168.65625   ]\n",
        " [   7913.25195312   39162.609375     39669.515625   ...,   21627.3046875\n",
        "    27219.4140625   423173.3125    ]\n",
        " [   7941.74707031   39144.84375      39655.703125   ...,   21642.92773438\n",
        "    27244.453125    423157.84375   ]\n",
        " ..., \n",
        " [   8873.22949219   37375.04296875   38472.078125   ...,   21334.23632812\n",
        "    27077.72265625  422174.21875   ]\n",
        " [   8846.12597656   37309.796875     38417.8828125  ...,   21305.75976562\n",
        "    27056.3125      422092.65625   ]\n",
        " [   8842.72167969   37286.9609375    38397.84375    ...,   21295.38867188\n",
        "    27005.46484375  422104.5625    ]]\n"
       ]
      }
     ],
     "prompt_number": 6
    },
    {
     "cell_type": "code",
     "collapsed": false,
     "input": [
      "np.savetxt(\"pre-corr.csv\", mean_signals, delimiter=\",\")"
     ],
     "language": "python",
     "metadata": {},
     "outputs": [],
     "prompt_number": 7
    },
    {
     "cell_type": "code",
     "collapsed": false,
     "input": [
      "\n",
      "import csv\n",
      "from itertools import izip\n",
      "a = izip(*csv.reader(open(\"pre-corr.csv\", \"rb\")))\n",
      "csv.writer(open(\"pre-corr-trans.csv\", \"wb\")).writerows(a)"
     ],
     "language": "python",
     "metadata": {},
     "outputs": [],
     "prompt_number": 8
    },
    {
     "cell_type": "code",
     "collapsed": false,
     "input": [],
     "language": "python",
     "metadata": {},
     "outputs": []
    }
   ],
   "metadata": {}
  }
 ]
}