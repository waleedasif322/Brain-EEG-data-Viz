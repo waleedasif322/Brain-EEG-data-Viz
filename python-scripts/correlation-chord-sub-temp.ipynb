{
 "metadata": {
  "name": "",
  "signature": "sha256:4973de79085fe70ac275e01bfd52b820d397320b646b2f250d7f92744df8caf1"
 },
 "nbformat": 3,
 "nbformat_minor": 0,
 "worksheets": [
  {
   "cells": [
    {
     "cell_type": "code",
     "collapsed": false,
     "input": [
      "from neo import io\n",
      "import matplotlib.pyplot as plt\n",
      "from matplotlib.pyplot import show\n",
      "import numpy as np\n",
      "from scipy.stats.stats import pearsonr"
     ],
     "language": "python",
     "metadata": {},
     "outputs": [],
     "prompt_number": 1
    },
    {
     "cell_type": "code",
     "collapsed": false,
     "input": [
      "r = io.BrainVisionIO( filename= 'eeg_suj1_wm2_day1.eeg', filename2='eeg_suj1_wm2_day1.vhdr')\n",
      "seg = r.read_segment(lazy=False, cascade= True, )\n",
      "siglist = seg.analogsignals[0:64]"
     ],
     "language": "python",
     "metadata": {},
     "outputs": [],
     "prompt_number": 2
    },
    {
     "cell_type": "code",
     "collapsed": false,
     "input": [
      "with open('intervals.txt') as file:\n",
      "    lines = file.read().splitlines()"
     ],
     "language": "python",
     "metadata": {},
     "outputs": [],
     "prompt_number": 7
    },
    {
     "cell_type": "code",
     "collapsed": false,
     "input": [
      "numbers = [int(e.strip()) for e in lines]\n",
      "signal_list = np.asarray(siglist)\n",
      "#total_mean_signal = np.average(signal_list)\n",
      "#print total_mean_signal"
     ],
     "language": "python",
     "metadata": {},
     "outputs": [],
     "prompt_number": 8
    },
    {
     "cell_type": "code",
     "collapsed": false,
     "input": [
      "image_index = 0 # which image are we on\n",
      "i=0 # will iterate 64 times for all data\n",
      "j=0 # for each i (node), j will iterate 1.8 million times which is half an hour of data (1.8 million ms)\n",
      "\n",
      "# While we are in the inner for loop, compute the mean signal for two nodes at a time within a timeframe each image was shown\n",
      "# and store in a 2D array.\n",
      "# e.g. curr_image = numbers[i], next_image = numbers[i+1], np.average(signal_list[curr_image:next_image])\n",
      "# store each mean signal you get in a multidimensional array that is 140 X 64. \n",
      "# Then run pearson correlation on array like this:\n",
      "# e.g. pearson_cor(mean_signals[0],mean_signals[1]), pearson_cor(mean_signals[0],mean_signals[2])...etc\n",
      "# final array should 140 X 140\n",
      "\n",
      "mean_signals = np.empty((140,64), dtype=np.float32) # This will store the final correlational data for each \n",
      "final_correlation = np.empty((140,140), np.float32)\n",
      "\n",
      "while i < len(signal_list): #iterate over nodes\n",
      "    j = 0\n",
      "    image_index = 0\n",
      "    while j < len(signal_list[i]): # iterate over time in ms\n",
      "        if((j>= 415730) & (j<=1244423)):\n",
      "            if j == numbers[image_index]:\n",
      "                if numbers[image_index] == 1244423: # if last image\n",
      "                    curr_image = numbers[image_index]\n",
      "                    next_image = curr_image + 2000\n",
      "                else:\n",
      "                    curr_image = numbers[image_index]\n",
      "                    next_image = numbers[image_index + 1]\n",
      "                average_val = np.average(signal_list[i][curr_image:next_image])\n",
      "                mean_signals[image_index][i] = average_val # assign an average signal to the current image\n",
      "                if j < 1244423: # if last image\n",
      "                    image_index += 1\n",
      "        j += 1\n",
      "    i += 1\n",
      "    \n",
      "print mean_signals\n",
      "# Here I subtract the mean signal of the nodes at each timeframe\n",
      "\n",
      "c=0\n",
      "d=0\n",
      "e=0\n",
      "average_signal_for_current_image = 0.0\n",
      "subtracted_mean_signals = np.empty((140,64), np.float32)\n",
      "\n",
      "while c < len(mean_signals): # iterate over images\n",
      "    d=0\n",
      "    average_signal_for_current_image = 0\n",
      "    while d < len(mean_signals[c]): # iterate over nodes\n",
      "        average_signal_for_current_image += mean_signals[c][d]\n",
      "        d += 1\n",
      "    while e < len(mean_signals[c]):\n",
      "        subtracted_mean_signals[c][e] = mean_signals[c][e] -  average_signal_for_current_image/64.0\n",
      "        e += 1\n",
      "    c += 1\n",
      "    \n",
      "print subtracted_mean_signals\n",
      "\n",
      "# Now run pearson corr bw every image\n",
      "a = 0\n",
      "b = 0\n",
      "node = 0\n",
      "while a < len(subtracted_mean_signals): # iterate images\n",
      "    b = 0\n",
      "    while b < len(subtracted_mean_signals): # iterate second image\n",
      "        curr_corr = pearsonr(subtracted_mean_signals[a], subtracted_mean_signals[b])\n",
      "        final_correlation[a][b] = curr_corr[0]\n",
      "        node += 1\n",
      "        b += 1\n",
      "    a += 1\n",
      "    \n",
      "print final_correlation\n",
      "print final_correlation.size\n"
     ],
     "language": "python",
     "metadata": {},
     "outputs": [
      {
       "output_type": "stream",
       "stream": "stderr",
       "text": [
        "/home/waleed/Documents/csc599/venv/local/lib/python2.7/site-packages/scipy/stats/stats.py:4310: RuntimeWarning: overflow encountered in multiply\n",
        "  return np.sum(a*a, axis)\n",
        "/home/waleed/Documents/csc599/venv/local/lib/python2.7/site-packages/scipy/stats/stats.py:2434: RuntimeWarning: overflow encountered in multiply\n",
        "  r_num = np.add.reduce(xm * ym)\n"
       ]
      },
      {
       "output_type": "stream",
       "stream": "stdout",
       "text": [
        "[[   7881.18847656   39168.6484375    39680.15234375 ...,   21648.0703125\n",
        "    27252.82617188  423168.65625   ]\n",
        " [   7913.25195312   39162.609375     39669.515625   ...,   21627.3046875\n",
        "    27219.4140625   423173.3125    ]\n",
        " [   7941.74707031   39144.84375      39655.703125   ...,   21642.92773438\n",
        "    27244.453125    423157.84375   ]\n",
        " ..., \n",
        " [   8873.22949219   37375.04296875   38472.078125   ...,   21334.23632812\n",
        "    27077.72265625  422174.21875   ]\n",
        " [   8846.12597656   37309.796875     38417.8828125  ...,   21305.75976562\n",
        "    27056.3125      422092.65625   ]\n",
        " [   8842.72167969   37286.9609375    38397.84375    ...,   21295.38867188\n",
        "    27005.46484375  422104.5625    ]]\n",
        "[[ -3.07366270e+04   5.50833130e+02   1.06233704e+03 ...,  -1.69697441e+04\n",
        "   -1.13649893e+04   3.84550844e+05]\n",
        " [  2.80259693e-45   0.00000000e+00   3.20315063e-02 ...,   6.30584309e-44\n",
        "    2.52233724e-44   9.18996328e+04]\n",
        " [  3.20321321e-02   0.00000000e+00   8.31645752e-38 ...,   9.09686094e+04\n",
        "    9.10705312e+04   9.10821562e+04]\n",
        " ..., \n",
        " [  7.90307812e+05   7.90198125e+05   7.89990438e+05 ...,   7.90297062e+05\n",
        "    7.89802688e+05   7.86913062e+05]\n",
        " [  7.89174125e+05   7.90700938e+05   7.90536125e+05 ...,   7.90142438e+05\n",
        "    7.90312562e+05   7.90326000e+05]\n",
        " [  7.90393938e+05   7.88909500e+05   7.87125812e+05 ...,   7.88249062e+05\n",
        "    7.89721000e+05   7.89941875e+05]]\n",
        "[[ 1.          0.09175099  0.14747086 ..., -0.23908906  0.11344606\n",
        "  -0.0127693 ]\n",
        " [ 0.09175099  1.         -0.15337552 ..., -0.00422428 -0.24404494\n",
        "  -0.00520801]\n",
        " [ 0.14747086 -0.15337552  1.         ..., -0.157552    0.01386619\n",
        "   0.13388617]\n",
        " ..., \n",
        " [-0.23908906 -0.00422428 -0.157552   ...,  1.         -0.26527253\n",
        "  -0.36282498]\n",
        " [ 0.11344606 -0.24404494  0.01386619 ..., -0.26527253  1.         -0.27927107]\n",
        " [-0.0127693  -0.00520801  0.13388617 ..., -0.36282498 -0.27927107  1.        ]]"
       ]
      },
      {
       "output_type": "stream",
       "stream": "stdout",
       "text": [
        "\n",
        "19600\n"
       ]
      },
      {
       "output_type": "stream",
       "stream": "stderr",
       "text": [
        "/home/waleed/Documents/csc599/venv/local/lib/python2.7/site-packages/scipy/stats/stats.py:2436: RuntimeWarning: invalid value encountered in float_scalars\n",
        "  r = r_num / r_den\n"
       ]
      }
     ],
     "prompt_number": 9
    },
    {
     "cell_type": "code",
     "collapsed": false,
     "input": [
      "from scipy.spatial.distance import pdist, squareform\n",
      "from scipy.cluster.hierarchy import linkage, dendrogram\n",
      "\n",
      "new_corr = final_correlation.astype(np.float16)\n",
      "\n",
      "data_dist = pdist(new_corr, 'correlation') # computing the distance\n",
      "print data_dist\n",
      "data_link = linkage(final_correlation, method='ward') # computing the linkage\n",
      "\n",
      "\n",
      "# Compute and plot first dendrogram.\n",
      "fig = plt.figure(figsize=(8,8))\n",
      "# x ywidth height\n",
      "ax1 = fig.add_axes([0.05,0.1,0.2,0.6])\n",
      "Y = linkage(data_dist, 'average')\n",
      "print Y[0][2]\n",
      "Z1 = dendrogram(Y, orientation='right') # adding/removing the axes\n",
      "ax1.set_xticks([])\n",
      "\n",
      "# Compute and plot second dendrogram.\n",
      "ax2 = fig.add_axes([0.3,0.71,0.6,0.2])\n",
      "Z2 = dendrogram(Y)\n",
      "ax2.set_xticks([])\n",
      "ax2.set_yticks([])\n",
      "\n",
      "#Compute and plot the heatmap\n",
      "axmatrix = fig.add_axes([0.3,0.1,0.6,0.6])\n",
      "idx1 = Z1['leaves']\n",
      "idx2 = Z2['leaves']\n",
      "D = squareform(data_dist)\n",
      "D = D[idx1,:]\n",
      "D = D[:,idx2]\n",
      "im = axmatrix.matshow(D, aspect='auto', origin='lower', cmap=plt.cm.RdBu)\n",
      "axmatrix.set_xticks([])\n",
      "axmatrix.set_yticks([])\n",
      "\n",
      "# Plot colorbar.\n",
      "axcolor = fig.add_axes([0.91,0.1,0.02,0.6])\n",
      "plt.colorbar(im, cax=axcolor)\n"
     ],
     "language": "python",
     "metadata": {},
     "outputs": [
      {
       "output_type": "stream",
       "stream": "stdout",
       "text": [
        "[ 0.61264705  0.50400422  1.65365165 ...,  0.79242828  1.57727582\n",
        "  0.82944176]\n",
        "1.56173876921e-05"
       ]
      },
      {
       "output_type": "stream",
       "stream": "stdout",
       "text": [
        "\n"
       ]
      },
      {
       "metadata": {},
       "output_type": "pyout",
       "prompt_number": 29,
       "text": [
        "<matplotlib.colorbar.Colorbar instance at 0x4e459998>"
       ]
      }
     ],
     "prompt_number": 29
    },
    {
     "cell_type": "code",
     "collapsed": false,
     "input": [
      "plt.pcolor(final_correlation,cmap=plt.cm.Reds,edgecolors='k')\n",
      "plt.show()"
     ],
     "language": "python",
     "metadata": {},
     "outputs": []
    },
    {
     "cell_type": "code",
     "collapsed": false,
     "input": [
      "json_corr = final_correlation.tolist()\n",
      "# with open('data.json','w') as outfile:\n",
      "#     json.dump(json_corr, outfile)\n",
      "\n",
      "# np.savetxt(\"correlation-chord-subtracted-dec-3rd.csv\", final_correlation, delimiter=\",\")"
     ],
     "language": "python",
     "metadata": {},
     "outputs": [],
     "prompt_number": 27
    },
    {
     "cell_type": "code",
     "collapsed": false,
     "input": [
      "import seaborn as sns\n",
      "from pandas import *\n",
      "sns.set(context=\"paper\", font=\"monospace\")\n",
      "df = DataFrame(data=final_correlation)\n",
      "\n",
      "f, ax = plt.subplots(figsize=(12, 9))\n",
      "sns.heatmap(df, vmax=.8, linewidths=0, square=True)\n",
      "f.tight_layout()\n"
     ],
     "language": "python",
     "metadata": {},
     "outputs": [],
     "prompt_number": 29
    },
    {
     "cell_type": "code",
     "collapsed": false,
     "input": [],
     "language": "python",
     "metadata": {},
     "outputs": [
      {
       "ename": "IndexError",
       "evalue": "index 155 is out of bounds for axis 0 with size 140",
       "output_type": "pyerr",
       "traceback": [
        "\u001b[1;31m---------------------------------------------------------------------------\u001b[0m\n\u001b[1;31mIndexError\u001b[0m                                Traceback (most recent call last)",
        "\u001b[1;32m<ipython-input-8-db69d14c17cc>\u001b[0m in \u001b[0;36m<module>\u001b[1;34m()\u001b[0m\n\u001b[1;32m----> 1\u001b[1;33m \u001b[1;32mprint\u001b[0m \u001b[0mfinal_correlation\u001b[0m\u001b[1;33m[\u001b[0m\u001b[1;36m155\u001b[0m\u001b[1;33m]\u001b[0m\u001b[1;33m[\u001b[0m\u001b[1;36m196\u001b[0m\u001b[1;33m]\u001b[0m\u001b[1;33m\u001b[0m\u001b[0m\n\u001b[0m",
        "\u001b[1;31mIndexError\u001b[0m: index 155 is out of bounds for axis 0 with size 140"
       ]
      }
     ],
     "prompt_number": 8
    },
    {
     "cell_type": "code",
     "collapsed": false,
     "input": [
      "print D"
     ],
     "language": "python",
     "metadata": {},
     "outputs": [
      {
       "output_type": "stream",
       "stream": "stdout",
       "text": [
        "[[ 0.          0.64593164  1.41185655 ...,  1.72190105  1.40523359\n",
        "          nan]\n",
        " [ 0.64593164  0.          0.44380085 ...,  0.99463938  1.05247828\n",
        "          nan]\n",
        " [ 1.41185655  0.44380085  0.         ...,  0.18304364  0.41302935\n",
        "          nan]\n",
        " ..., \n",
        " [ 1.72190105  0.99463938  0.18304364 ...,  0.          0.27821628\n",
        "          nan]\n",
        " [ 1.40523359  1.05247828  0.41302935 ...,  0.27821628  0.                 nan]\n",
        " [        nan         nan         nan ...,         nan         nan  0.        ]]\n"
       ]
      }
     ],
     "prompt_number": 36
    },
    {
     "cell_type": "code",
     "collapsed": false,
     "input": [],
     "language": "python",
     "metadata": {},
     "outputs": []
    }
   ],
   "metadata": {}
  }
 ]
}