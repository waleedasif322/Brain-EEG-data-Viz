{
 "metadata": {
  "name": "",
  "signature": "sha256:7b73bea9db36f35a0ee2566caff05900da2b290ea1f8ce0f091274da56bfee4e"
 },
 "nbformat": 3,
 "nbformat_minor": 0,
 "worksheets": [
  {
   "cells": [
    {
     "cell_type": "code",
     "collapsed": false,
     "input": [
      "from neo import io\n",
      "import matplotlib.pyplot as plt\n",
      "import numpy as np"
     ],
     "language": "python",
     "metadata": {},
     "outputs": [],
     "prompt_number": 1
    },
    {
     "cell_type": "code",
     "collapsed": false,
     "input": [
      "r = io.BrainVisionIO( filename= 'eeg_suj1_wm2_day1.eeg', filename2='eeg_suj1_wm2_day1.vhdr')\n",
      "seg = r.read_segment(lazy=False, cascade= True, )\n",
      "siglist = seg.analogsignals[0:64]"
     ],
     "language": "python",
     "metadata": {},
     "outputs": [],
     "prompt_number": 2
    },
    {
     "cell_type": "code",
     "collapsed": false,
     "input": [
      "with open('intervals.txt') as file:\n",
      "    lines = file.read().splitlines()"
     ],
     "language": "python",
     "metadata": {},
     "outputs": [],
     "prompt_number": 25
    },
    {
     "cell_type": "code",
     "collapsed": false,
     "input": [
      "numbers = [int(e.strip()) for e in lines]\n",
      "print numbers"
     ],
     "language": "python",
     "metadata": {},
     "outputs": [
      {
       "output_type": "stream",
       "stream": "stdout",
       "text": [
        "[415730, 417921, 420105, 435545, 437762, 440002, 442279, 457799, 460051, 462316, 464594, 480068, 482350, 484612, 486855, 489106, 504625, 506833, 509049, 511303, 513563, 529055, 531317, 533533, 535806, 538069, 553538, 555751, 558018, 560299, 575701, 577972, 580250, 595706, 597950, 600202, 602449, 604688, 620229, 622491, 624703, 626956, 629179, 644584, 646825, 662292, 664574, 666834, 669087, 671357, 686794, 689020, 704455, 706670, 722157, 724409, 739938, 742190, 744438, 746714, 762202, 764456, 766703, 768940, 784399, 786622, 788894, 791127, 793392, 808902, 811140, 813423, 828902, 831173, 833424, 848825, 851091, 866569, 868799, 871062, 886519, 888787, 891032, 906551, 908815, 911052, 913284, 928724, 930986, 933258, 948776, 950992, 966537, 968788, 971039, 973273, 975506, 990935, 993185, 1008703, 1010962, 1026435, 1028672, 1030937, 1033214, 1048653, 1050925, 1053198, 1055475, 1057739, 1073270, 1075547, 1090973, 1093198, 1108634, 1110911, 1113169, 1115429, 1130924, 1133184, 1135453, 1150964, 1153238, 1155472, 1157747, 1173204, 1175415, 1177691, 1179983, 1195437, 1197676, 1199934, 1215387, 1217617, 1219908, 1235317, 1237585, 1239864, 1242150, 1244423]\n"
       ]
      }
     ],
     "prompt_number": 27
    },
    {
     "cell_type": "code",
     "collapsed": false,
     "input": [
      "avg = np.asarray(siglist)\n"
     ],
     "language": "python",
     "metadata": {},
     "outputs": [],
     "prompt_number": 47
    },
    {
     "cell_type": "code",
     "collapsed": false,
     "input": [
      "mean_signal_of_images = []\n",
      "#mean_signal_of_images = np.asarray(mean_signal_of_images)\n",
      "avg_index = 0\n",
      "j=0\n",
      "i=1\n",
      "counter = 0.0\n",
      "mean_signal = 0\n",
      "while avg_index < len(avg):\n",
      "    j=0\n",
      "    i=0\n",
      "    while j < len(avg[avg_index]):\n",
      "\n",
      "        if ((j >= 415730) & (j <= 1246423)):\n",
      "            mean_signal += avg[avg_index][j]\n",
      "            counter = counter + 1\n",
      "            if j == numbers[i]:\n",
      "              average_val = 0.0\n",
      "              average_val = mean_signal/counter\n",
      "              mean_signal_of_images.append(average_val)\n",
      "              counter = 0\n",
      "              mean_signal = 0\n",
      "              if j< 1244423:\n",
      "                  i+=1\n",
      "        j+=1\n",
      "    avg_index +=1\n",
      "\n",
      "\n",
      "print len(mean_signal_of_images)\n",
      "# mean_signal_of_all = np.average(avg)\n",
      "mean_of_each_node = np.empty((1,1), dtype=np.float32)\n",
      "node = 0\n",
      "ms = 0\n",
      "node_mean = 0.0\n",
      "\n",
      "while node < len(mean_signal_of_images):\n",
      "    ms = 0\n",
      "    while ms < len(avg[node]):\n",
      "        subtracted_val = avg[node][ms] - mean_signal_of_images[node] \n",
      "        mean_of_each_node[node].append(subtracted_val)\n",
      "        ms+=1\n",
      "    node +=1\n",
      "\n",
      "print mean_of_each_node\n",
      "\n",
      "\n",
      "\n"
     ],
     "language": "python",
     "metadata": {},
     "outputs": [
      {
       "output_type": "stream",
       "stream": "stdout",
       "text": [
        "8960\n"
       ]
      },
      {
       "ename": "NameError",
       "evalue": "name 'float32' is not defined",
       "output_type": "pyerr",
       "traceback": [
        "\u001b[1;31m---------------------------------------------------------------------------\u001b[0m\n\u001b[1;31mNameError\u001b[0m                                 Traceback (most recent call last)",
        "\u001b[1;32m<ipython-input-64-c37d902389f0>\u001b[0m in \u001b[0;36m<module>\u001b[1;34m()\u001b[0m\n\u001b[0;32m     28\u001b[0m \u001b[1;32mprint\u001b[0m \u001b[0mlen\u001b[0m\u001b[1;33m(\u001b[0m\u001b[0mmean_signal_of_images\u001b[0m\u001b[1;33m)\u001b[0m\u001b[1;33m\u001b[0m\u001b[0m\n\u001b[0;32m     29\u001b[0m \u001b[1;31m# mean_signal_of_all = np.average(avg)\u001b[0m\u001b[1;33m\u001b[0m\u001b[1;33m\u001b[0m\u001b[0m\n\u001b[1;32m---> 30\u001b[1;33m \u001b[0mmean_of_each_node\u001b[0m \u001b[1;33m=\u001b[0m \u001b[0mnp\u001b[0m\u001b[1;33m.\u001b[0m\u001b[0mempty\u001b[0m\u001b[1;33m(\u001b[0m\u001b[1;33m(\u001b[0m\u001b[1;36m1\u001b[0m\u001b[1;33m,\u001b[0m\u001b[1;36m1\u001b[0m\u001b[1;33m)\u001b[0m\u001b[1;33m,\u001b[0m \u001b[0mdtype\u001b[0m\u001b[1;33m=\u001b[0m\u001b[0mfloat32\u001b[0m\u001b[1;33m)\u001b[0m\u001b[1;33m\u001b[0m\u001b[0m\n\u001b[0m\u001b[0;32m     31\u001b[0m \u001b[0mnode\u001b[0m \u001b[1;33m=\u001b[0m \u001b[1;36m0\u001b[0m\u001b[1;33m\u001b[0m\u001b[0m\n\u001b[0;32m     32\u001b[0m \u001b[0mms\u001b[0m \u001b[1;33m=\u001b[0m \u001b[1;36m0\u001b[0m\u001b[1;33m\u001b[0m\u001b[0m\n",
        "\u001b[1;31mNameError\u001b[0m: name 'float32' is not defined"
       ]
      }
     ],
     "prompt_number": 64
    },
    {
     "cell_type": "code",
     "collapsed": false,
     "input": [],
     "language": "python",
     "metadata": {},
     "outputs": []
    }
   ],
   "metadata": {}
  }
 ]
}