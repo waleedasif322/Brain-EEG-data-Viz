{
 "metadata": {
  "name": "",
  "signature": "sha256:5e6a41d685b5547168f3bd750eda220d3c3223a494cad69689d9e5d03168958c"
 },
 "nbformat": 3,
 "nbformat_minor": 0,
 "worksheets": [
  {
   "cells": [
    {
     "cell_type": "code",
     "collapsed": false,
     "input": [
      "from neo import io\n",
      "import matplotlib.pyplot as plt\n",
      "import numpy as np\n",
      "from scipy.stats.stats import pearsonr"
     ],
     "language": "python",
     "metadata": {},
     "outputs": [],
     "prompt_number": 1
    },
    {
     "cell_type": "code",
     "collapsed": false,
     "input": [
      "r = io.BrainVisionIO( filename= 'eeg_suj1_wm2_day1.eeg', filename2='eeg_suj1_wm2_day1.vhdr')\n",
      "seg = r.read_segment(lazy=False, cascade= True, )\n",
      "siglist = seg.analogsignals[0:64]"
     ],
     "language": "python",
     "metadata": {},
     "outputs": [],
     "prompt_number": 2
    },
    {
     "cell_type": "code",
     "collapsed": false,
     "input": [
      "with open('intervals.txt') as file:\n",
      "    lines = file.read().splitlines()"
     ],
     "language": "python",
     "metadata": {},
     "outputs": [],
     "prompt_number": 3
    },
    {
     "cell_type": "code",
     "collapsed": false,
     "input": [
      "numbers = [int(e.strip()) for e in lines]\n",
      "signal_list = np.asarray(siglist)\n",
      "#total_mean_signal = np.average(signal_list)\n",
      "#print total_mean_signal"
     ],
     "language": "python",
     "metadata": {},
     "outputs": [],
     "prompt_number": 4
    },
    {
     "cell_type": "code",
     "collapsed": false,
     "input": [
      "image_index = 0 # which image are we on\n",
      "i=0 # will iterate 64 times for all data\n",
      "j=0 # for each i (node), j will iterate 1.8 million times which is half an hour of data (1.8 million ms)\n",
      "\n",
      "# While we are in the inner for loop, compute the mean signal for two nodes at a time within a timeframe each image was shown\n",
      "# and store in a 2D array.\n",
      "# e.g. curr_image = numbers[i], next_image = numbers[i+1], np.average(signal_list[curr_image:next_image])\n",
      "# store each mean signal you get in a multidimensional array that is 140 X 64. \n",
      "# Then run pearson correlation on array like this:\n",
      "# e.g. pearson_cor(mean_signals[0],mean_signals[1]), pearson_cor(mean_signals[0],mean_signals[2])...etc\n",
      "# final array should 140 X 140\n",
      "\n",
      "mean_signals = np.zeros((140,64), dtype=np.float32) # This will store the final correlational data for each \n",
      "final_correlation = np.zeros((140,140), dtype=np.float32)\n",
      "\n",
      "while i < len(signal_list): #iterate over nodes\n",
      "    j = 0\n",
      "    image_index = 0\n",
      "    while j < len(signal_list[i]): # iterate over time in ms\n",
      "        if((j>= 415730) & (j<=1244423)):\n",
      "            if j == numbers[image_index]:\n",
      "                if numbers[image_index] == 1244423: # if last image\n",
      "                    curr_image = numbers[image_index]\n",
      "                    next_image = curr_image + 2000\n",
      "                else:\n",
      "                    curr_image = numbers[image_index]\n",
      "                    next_image = numbers[image_index + 1]\n",
      "                average_val = np.average(signal_list[i][curr_image:next_image])\n",
      "                mean_signals[image_index][i] = average_val # assign an average signal to the current image\n",
      "                if j < 1244423: # if last image\n",
      "                    image_index += 1\n",
      "        j += 1\n",
      "    i += 1\n",
      "    \n",
      "print mean_signals\n",
      "# Here I subtract the mean signal of the nodes at each timeframe\n",
      "\n",
      "c=0\n",
      "d=0\n",
      "e=0\n",
      "average_signal_for_current_image = 0.0\n",
      "subtracted_mean_signals = np.zeros((140,64), dtype=np.float32)\n",
      "\n",
      "while c < len(mean_signals): # iterate over images\n",
      "    d=0\n",
      "    average_signal_for_current_image = 0\n",
      "    while d < len(mean_signals[c]): # iterate over nodes\n",
      "        average_signal_for_current_image += mean_signals[c][d]\n",
      "        d += 1\n",
      "    while e < len(mean_signals[c]):\n",
      "        subtracted_mean_signals[c][e] = mean_signals[c][e] -  average_signal_for_current_image/64.0\n",
      "        e += 1\n",
      "    c += 1\n",
      "    \n",
      "print subtracted_mean_signals\n",
      "\n",
      "# Now run pearson corr bw every image\n",
      "a = 0\n",
      "b = 0\n",
      "node = 0\n",
      "while a < len(subtracted_mean_signals): # iterate images\n",
      "    b = 0\n",
      "    while b < len(subtracted_mean_signals): # iterate second image\n",
      "        curr_corr = pearsonr(subtracted_mean_signals[a], subtracted_mean_signals[b])\n",
      "        final_correlation[a][b] = curr_corr[0]\n",
      "        node += 1\n",
      "        b += 1\n",
      "    a += 1\n",
      "    \n",
      "print final_correlation\n",
      "print final_correlation.size\n"
     ],
     "language": "python",
     "metadata": {},
     "outputs": [
      {
       "output_type": "stream",
       "stream": "stdout",
       "text": [
        "[[   7881.18847656   39168.6484375    39680.15234375 ...,   21648.0703125\n",
        "    27252.82617188  423168.65625   ]\n",
        " [   7913.25195312   39162.609375     39669.515625   ...,   21627.3046875\n",
        "    27219.4140625   423173.3125    ]\n",
        " [   7941.74707031   39144.84375      39655.703125   ...,   21642.92773438\n",
        "    27244.453125    423157.84375   ]\n",
        " ..., \n",
        " [   8873.22949219   37375.04296875   38472.078125   ...,   21334.23632812\n",
        "    27077.72265625  422174.21875   ]\n",
        " [   8846.12597656   37309.796875     38417.8828125  ...,   21305.75976562\n",
        "    27056.3125      422092.65625   ]\n",
        " [   8842.72167969   37286.9609375    38397.84375    ...,   21295.38867188\n",
        "    27005.46484375  422104.5625    ]]\n",
        "[[ -30736.62695312     550.83312988    1062.33703613 ...,  -16969.74414062\n",
        "   -11364.98925781  384550.84375   ]\n",
        " [      0.               0.               0.         ...,       0.               0.\n",
        "        0.        ]\n",
        " [      0.               0.               0.         ...,       0.               0.\n",
        "        0.        ]\n",
        " ..., \n",
        " [      0.               0.               0.         ...,       0.               0.\n",
        "        0.        ]\n",
        " [      0.               0.               0.         ...,       0.               0.\n",
        "        0.        ]\n",
        " [      0.               0.               0.         ...,       0.               0.\n",
        "        0.        ]]\n",
        "[[  1.  nan  nan ...,  nan  nan  nan]\n",
        " [ nan  nan  nan ...,  nan  nan  nan]\n",
        " [ nan  nan  nan ...,  nan  nan  nan]\n",
        " ..., \n",
        " [ nan  nan  nan ...,  nan  nan  nan]\n",
        " [ nan  nan  nan ...,  nan  nan  nan]\n",
        " [ nan  nan  nan ...,  nan  nan  nan]]"
       ]
      },
      {
       "output_type": "stream",
       "stream": "stdout",
       "text": [
        "\n",
        "19600\n"
       ]
      },
      {
       "output_type": "stream",
       "stream": "stderr",
       "text": [
        "/home/waleed/Documents/csc599/venv/local/lib/python2.7/site-packages/scipy/stats/stats.py:2436: RuntimeWarning: invalid value encountered in float_scalars\n",
        "  r = r_num / r_den\n"
       ]
      }
     ],
     "prompt_number": 5
    },
    {
     "cell_type": "code",
     "collapsed": false,
     "input": [
      "np.savetxt(\"correlation-dec-2nd.csv\", final_correlation, delimiter=\",\")"
     ],
     "language": "python",
     "metadata": {},
     "outputs": [],
     "prompt_number": 7
    },
    {
     "cell_type": "code",
     "collapsed": false,
     "input": [],
     "language": "python",
     "metadata": {},
     "outputs": [],
     "prompt_number": 40
    },
    {
     "cell_type": "code",
     "collapsed": false,
     "input": [],
     "language": "python",
     "metadata": {},
     "outputs": [],
     "prompt_number": 48
    },
    {
     "cell_type": "code",
     "collapsed": false,
     "input": [],
     "language": "python",
     "metadata": {},
     "outputs": [],
     "prompt_number": 48
    },
    {
     "cell_type": "code",
     "collapsed": false,
     "input": [],
     "language": "python",
     "metadata": {},
     "outputs": [],
     "prompt_number": 48
    },
    {
     "cell_type": "code",
     "collapsed": false,
     "input": [],
     "language": "python",
     "metadata": {},
     "outputs": []
    }
   ],
   "metadata": {}
  }
 ]
}